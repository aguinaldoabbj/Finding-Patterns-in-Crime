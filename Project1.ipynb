{
 "cells": [
  {
   "cell_type": "markdown",
   "metadata": {},
   "source": [
    "# Universidade Federal do Rio Grande do Norte\n",
    "## Programa de Pós-graduação em Engenharia Elétrica e de Computação\n",
    "### Course: Tópicos Especiais C\n",
    "### Professor: Ivanovitch Silva\n",
    "### Students: \n",
    "* Aguinaldo Bezerra Batista Júnior\n",
    "* Pedro Klisley Ferreira da Silva\n",
    "* Ycaro Ravel Dantas\n",
    "\n",
    "#### Activity: Task 2, Project 1\n",
    "#### Subject: Finding Patterns in Crime\n",
    "#### Objectives: Perform data analysis of a given dataset following guidance and hints in the professor's notebook.\n",
    "#### Dataset: MontgomeryCountyCrime2013.csv"
   ]
  },
  {
   "cell_type": "markdown",
   "metadata": {},
   "source": [
    "### 1 Getting to know the proposed dataset"
   ]
  },
  {
   "cell_type": "markdown",
   "metadata": {},
   "source": [
    "Loading the given dataset into Pandas object and showing some rows"
   ]
  },
  {
   "cell_type": "code",
   "execution_count": 69,
   "metadata": {
    "collapsed": false,
    "scrolled": false
   },
   "outputs": [
    {
     "data": {
      "text/html": [
       "<div>\n",
       "<table border=\"1\" class=\"dataframe\">\n",
       "  <thead>\n",
       "    <tr style=\"text-align: right;\">\n",
       "      <th></th>\n",
       "      <th>Incident ID</th>\n",
       "      <th>CR Number</th>\n",
       "      <th>Dispatch Date / Time</th>\n",
       "      <th>Class</th>\n",
       "      <th>Class Description</th>\n",
       "      <th>Police District Name</th>\n",
       "      <th>Block Address</th>\n",
       "      <th>City</th>\n",
       "      <th>State</th>\n",
       "      <th>Zip Code</th>\n",
       "      <th>...</th>\n",
       "      <th>Sector</th>\n",
       "      <th>Beat</th>\n",
       "      <th>PRA</th>\n",
       "      <th>Start Date / Time</th>\n",
       "      <th>End Date / Time</th>\n",
       "      <th>Latitude</th>\n",
       "      <th>Longitude</th>\n",
       "      <th>Police District Number</th>\n",
       "      <th>Location</th>\n",
       "      <th>Address Number</th>\n",
       "    </tr>\n",
       "  </thead>\n",
       "  <tbody>\n",
       "    <tr>\n",
       "      <th>0</th>\n",
       "      <td>200939101</td>\n",
       "      <td>13047006</td>\n",
       "      <td>10/02/2013 07:52:41 PM</td>\n",
       "      <td>511</td>\n",
       "      <td>BURG FORCE-RES/NIGHT</td>\n",
       "      <td>OTHER</td>\n",
       "      <td>25700  MT RADNOR DR</td>\n",
       "      <td>DAMASCUS</td>\n",
       "      <td>MD</td>\n",
       "      <td>20872.0</td>\n",
       "      <td>...</td>\n",
       "      <td>NaN</td>\n",
       "      <td>NaN</td>\n",
       "      <td>NaN</td>\n",
       "      <td>10/02/2013 07:52:00 PM</td>\n",
       "      <td>NaN</td>\n",
       "      <td>NaN</td>\n",
       "      <td>NaN</td>\n",
       "      <td>OTHER</td>\n",
       "      <td>NaN</td>\n",
       "      <td>25700.0</td>\n",
       "    </tr>\n",
       "    <tr>\n",
       "      <th>1</th>\n",
       "      <td>200952042</td>\n",
       "      <td>13062965</td>\n",
       "      <td>12/31/2013 09:46:58 PM</td>\n",
       "      <td>1834</td>\n",
       "      <td>CDS-POSS MARIJUANA/HASHISH</td>\n",
       "      <td>GERMANTOWN</td>\n",
       "      <td>GUNNERS BRANCH  RD</td>\n",
       "      <td>GERMANTOWN</td>\n",
       "      <td>MD</td>\n",
       "      <td>20874.0</td>\n",
       "      <td>...</td>\n",
       "      <td>M</td>\n",
       "      <td>5M1</td>\n",
       "      <td>470.0</td>\n",
       "      <td>12/31/2013 09:46:00 PM</td>\n",
       "      <td>NaN</td>\n",
       "      <td>NaN</td>\n",
       "      <td>NaN</td>\n",
       "      <td>5D</td>\n",
       "      <td>NaN</td>\n",
       "      <td>NaN</td>\n",
       "    </tr>\n",
       "    <tr>\n",
       "      <th>2</th>\n",
       "      <td>200926636</td>\n",
       "      <td>13031483</td>\n",
       "      <td>07/06/2013 09:06:24 AM</td>\n",
       "      <td>1412</td>\n",
       "      <td>VANDALISM-MOTOR VEHICLE</td>\n",
       "      <td>MONTGOMERY VILLAGE</td>\n",
       "      <td>OLDE TOWNE  AVE</td>\n",
       "      <td>GAITHERSBURG</td>\n",
       "      <td>MD</td>\n",
       "      <td>20877.0</td>\n",
       "      <td>...</td>\n",
       "      <td>P</td>\n",
       "      <td>6P3</td>\n",
       "      <td>431.0</td>\n",
       "      <td>07/06/2013 09:06:00 AM</td>\n",
       "      <td>NaN</td>\n",
       "      <td>NaN</td>\n",
       "      <td>NaN</td>\n",
       "      <td>6D</td>\n",
       "      <td>NaN</td>\n",
       "      <td>NaN</td>\n",
       "    </tr>\n",
       "    <tr>\n",
       "      <th>3</th>\n",
       "      <td>200929538</td>\n",
       "      <td>13035288</td>\n",
       "      <td>07/28/2013 09:13:15 PM</td>\n",
       "      <td>2752</td>\n",
       "      <td>FUGITIVE FROM JUSTICE(OUT OF STATE)</td>\n",
       "      <td>BETHESDA</td>\n",
       "      <td>BEACH  DR</td>\n",
       "      <td>CHEVY CHASE</td>\n",
       "      <td>MD</td>\n",
       "      <td>20815.0</td>\n",
       "      <td>...</td>\n",
       "      <td>D</td>\n",
       "      <td>2D1</td>\n",
       "      <td>11.0</td>\n",
       "      <td>07/28/2013 09:13:00 PM</td>\n",
       "      <td>NaN</td>\n",
       "      <td>NaN</td>\n",
       "      <td>NaN</td>\n",
       "      <td>2D</td>\n",
       "      <td>NaN</td>\n",
       "      <td>NaN</td>\n",
       "    </tr>\n",
       "    <tr>\n",
       "      <th>4</th>\n",
       "      <td>200930689</td>\n",
       "      <td>13036876</td>\n",
       "      <td>08/06/2013 05:16:17 PM</td>\n",
       "      <td>2812</td>\n",
       "      <td>DRIVING UNDER THE INFLUENCE</td>\n",
       "      <td>BETHESDA</td>\n",
       "      <td>BEACH  DR</td>\n",
       "      <td>SILVER SPRING</td>\n",
       "      <td>MD</td>\n",
       "      <td>20815.0</td>\n",
       "      <td>...</td>\n",
       "      <td>D</td>\n",
       "      <td>2D3</td>\n",
       "      <td>178.0</td>\n",
       "      <td>08/06/2013 05:16:00 PM</td>\n",
       "      <td>NaN</td>\n",
       "      <td>NaN</td>\n",
       "      <td>NaN</td>\n",
       "      <td>2D</td>\n",
       "      <td>NaN</td>\n",
       "      <td>NaN</td>\n",
       "    </tr>\n",
       "  </tbody>\n",
       "</table>\n",
       "<p>5 rows × 22 columns</p>\n",
       "</div>"
      ],
      "text/plain": [
       "   Incident ID  CR Number    Dispatch Date / Time  Class  \\\n",
       "0    200939101   13047006  10/02/2013 07:52:41 PM    511   \n",
       "1    200952042   13062965  12/31/2013 09:46:58 PM   1834   \n",
       "2    200926636   13031483  07/06/2013 09:06:24 AM   1412   \n",
       "3    200929538   13035288  07/28/2013 09:13:15 PM   2752   \n",
       "4    200930689   13036876  08/06/2013 05:16:17 PM   2812   \n",
       "\n",
       "                     Class Description Police District Name  \\\n",
       "0                 BURG FORCE-RES/NIGHT                OTHER   \n",
       "1           CDS-POSS MARIJUANA/HASHISH           GERMANTOWN   \n",
       "2              VANDALISM-MOTOR VEHICLE   MONTGOMERY VILLAGE   \n",
       "3  FUGITIVE FROM JUSTICE(OUT OF STATE)             BETHESDA   \n",
       "4          DRIVING UNDER THE INFLUENCE             BETHESDA   \n",
       "\n",
       "         Block Address           City State  Zip Code      ...       Sector  \\\n",
       "0  25700  MT RADNOR DR       DAMASCUS    MD   20872.0      ...          NaN   \n",
       "1   GUNNERS BRANCH  RD     GERMANTOWN    MD   20874.0      ...            M   \n",
       "2      OLDE TOWNE  AVE   GAITHERSBURG    MD   20877.0      ...            P   \n",
       "3            BEACH  DR    CHEVY CHASE    MD   20815.0      ...            D   \n",
       "4            BEACH  DR  SILVER SPRING    MD   20815.0      ...            D   \n",
       "\n",
       "  Beat    PRA       Start Date / Time  End Date / Time Latitude Longitude  \\\n",
       "0  NaN    NaN  10/02/2013 07:52:00 PM              NaN      NaN       NaN   \n",
       "1  5M1  470.0  12/31/2013 09:46:00 PM              NaN      NaN       NaN   \n",
       "2  6P3  431.0  07/06/2013 09:06:00 AM              NaN      NaN       NaN   \n",
       "3  2D1   11.0  07/28/2013 09:13:00 PM              NaN      NaN       NaN   \n",
       "4  2D3  178.0  08/06/2013 05:16:00 PM              NaN      NaN       NaN   \n",
       "\n",
       "   Police District Number  Location Address Number  \n",
       "0                   OTHER       NaN        25700.0  \n",
       "1                      5D       NaN            NaN  \n",
       "2                      6D       NaN            NaN  \n",
       "3                      2D       NaN            NaN  \n",
       "4                      2D       NaN            NaN  \n",
       "\n",
       "[5 rows x 22 columns]"
      ]
     },
     "execution_count": 69,
     "metadata": {},
     "output_type": "execute_result"
    }
   ],
   "source": [
    "import pandas as pd\n",
    "crimes = pd.read_csv(\"MontgomeryCountyCrime2013.csv\")\n",
    "crimes.head()"
   ]
  },
  {
   "cell_type": "markdown",
   "metadata": {},
   "source": [
    "Listing the columns of the dataset and their types"
   ]
  },
  {
   "cell_type": "code",
   "execution_count": 70,
   "metadata": {
    "collapsed": false
   },
   "outputs": [
    {
     "data": {
      "text/plain": [
       "Index(['Incident ID', 'CR Number', 'Dispatch Date / Time', 'Class',\n",
       "       'Class Description', 'Police District Name', 'Block Address', 'City',\n",
       "       'State', 'Zip Code', 'Agency', 'Place', 'Sector', 'Beat', 'PRA',\n",
       "       'Start Date / Time', 'End Date / Time', 'Latitude', 'Longitude',\n",
       "       'Police District Number', 'Location', 'Address Number'],\n",
       "      dtype='object')"
      ]
     },
     "execution_count": 70,
     "metadata": {},
     "output_type": "execute_result"
    }
   ],
   "source": [
    "crimes.columns"
   ]
  },
  {
   "cell_type": "code",
   "execution_count": 71,
   "metadata": {
    "collapsed": false
   },
   "outputs": [
    {
     "data": {
      "text/plain": [
       "Incident ID                 int64\n",
       "CR Number                   int64\n",
       "Dispatch Date / Time       object\n",
       "Class                       int64\n",
       "Class Description          object\n",
       "Police District Name       object\n",
       "Block Address              object\n",
       "City                       object\n",
       "State                      object\n",
       "Zip Code                  float64\n",
       "Agency                     object\n",
       "Place                      object\n",
       "Sector                     object\n",
       "Beat                       object\n",
       "PRA                       float64\n",
       "Start Date / Time          object\n",
       "End Date / Time            object\n",
       "Latitude                  float64\n",
       "Longitude                 float64\n",
       "Police District Number     object\n",
       "Location                   object\n",
       "Address Number            float64\n",
       "dtype: object"
      ]
     },
     "execution_count": 71,
     "metadata": {},
     "output_type": "execute_result"
    }
   ],
   "source": [
    "crimes.dtypes"
   ]
  },
  {
   "cell_type": "markdown",
   "metadata": {},
   "source": [
    "By inspecting column names and some cells, we figured out some relations between some columns. Columns **\"Police Distric Name\"** and **\"Police District Number\"** stand for the same information: the identification of the Police District (Name or Code). Similarily, columns **\"Class\"** and **\"Class Description\"** refer to crime classes codes and their descriptions. **\"Location\"** is clearly a join of the information on **\"Latitude\"** and **\"Longitude\" columns**. A quick google search allowed to perceive the meaning of remaining non self-explanatory columns. **\"CR Number\"** refers to the Police Report Number, **\"Beat\"** stands for a police patrol area (subset of a Sector) and **\"PRA\"**, the Police Response Area, is a subset of Beat.\n",
    "\n"
   ]
  },
  {
   "cell_type": "markdown",
   "metadata": {
    "collapsed": true
   },
   "source": [
    "The column **\"Zip Code\"**, as already pointed in the guidance notebook, contains wrong type data. It is important to convert wrong or inadequate type data to more appropriate ones to help further analysis."
   ]
  },
  {
   "cell_type": "markdown",
   "metadata": {},
   "source": [
    "We could convert data in the **\"Zip Code\"** and **\"Address Number\"** columns to the more suitable interger type. However, these columns are full of _NaN_ and the lack of _NaN_ and _NA_ representations in integer columns is a well known Pandas \"gotcha\". Maybe thats why these columns were built as float type data (compatible with NAs and NaNs). A workaround to this problem could be the definition of a sentinel interger values for this kind of data absense."
   ]
  },
  {
   "cell_type": "markdown",
   "metadata": {},
   "source": [
    "NaNs and NAs are likeky to happen in a dataset during data acquisition, transmission and conversion steps. \n",
    "They negatively affect the quality of the dataset and they should be carefuly spotted and evaluated, as they may\n",
    "lead to weak or innacurate conclusions."
   ]
  },
  {
   "cell_type": "markdown",
   "metadata": {},
   "source": [
    "### 2 Preparing Data"
   ]
  },
  {
   "cell_type": "markdown",
   "metadata": {},
   "source": [
    "Converting some columns to more appropriate data types (see if it is really necessary)"
   ]
  },
  {
   "cell_type": "markdown",
   "metadata": {},
   "source": [
    "Converting Date/Time data in columns **\"Dispatch Date / Time\"**, **\"Start Date / Time\"** and **\"End Date / Time\"**\n",
    "from a generic Pandas object to a more convinient Date/Time Pandas object. This will allow the further extraction of date and time components easily. The resulting converted columns are going to be added right next to the original data columns."
   ]
  },
  {
   "cell_type": "code",
   "execution_count": 72,
   "metadata": {
    "collapsed": true
   },
   "outputs": [],
   "source": [
    "crimes.insert(3, \"datetime_Dispatch\", pd.to_datetime(crimes[\"Dispatch Date / Time\"]))"
   ]
  },
  {
   "cell_type": "code",
   "execution_count": 73,
   "metadata": {
    "collapsed": true
   },
   "outputs": [],
   "source": [
    "crimes.insert(17, \"datetime_Start\", pd.to_datetime(crimes[\"Start Date / Time\"]))"
   ]
  },
  {
   "cell_type": "code",
   "execution_count": 74,
   "metadata": {
    "collapsed": true
   },
   "outputs": [],
   "source": [
    "crimes.insert(19, \"datetime_End\", pd.to_datetime(crimes[\"End Date / Time\"]))"
   ]
  },
  {
   "cell_type": "code",
   "execution_count": 75,
   "metadata": {
    "collapsed": false,
    "scrolled": true
   },
   "outputs": [
    {
     "data": {
      "text/html": [
       "<div>\n",
       "<table border=\"1\" class=\"dataframe\">\n",
       "  <thead>\n",
       "    <tr style=\"text-align: right;\">\n",
       "      <th></th>\n",
       "      <th>Incident ID</th>\n",
       "      <th>CR Number</th>\n",
       "      <th>Dispatch Date / Time</th>\n",
       "      <th>datetime_Dispatch</th>\n",
       "      <th>Class</th>\n",
       "      <th>Class Description</th>\n",
       "      <th>Police District Name</th>\n",
       "      <th>Block Address</th>\n",
       "      <th>City</th>\n",
       "      <th>State</th>\n",
       "      <th>...</th>\n",
       "      <th>PRA</th>\n",
       "      <th>Start Date / Time</th>\n",
       "      <th>datetime_Start</th>\n",
       "      <th>End Date / Time</th>\n",
       "      <th>datetime_End</th>\n",
       "      <th>Latitude</th>\n",
       "      <th>Longitude</th>\n",
       "      <th>Police District Number</th>\n",
       "      <th>Location</th>\n",
       "      <th>Address Number</th>\n",
       "    </tr>\n",
       "  </thead>\n",
       "  <tbody>\n",
       "    <tr>\n",
       "      <th>0</th>\n",
       "      <td>200939101</td>\n",
       "      <td>13047006</td>\n",
       "      <td>10/02/2013 07:52:41 PM</td>\n",
       "      <td>2013-10-02 19:52:41</td>\n",
       "      <td>511</td>\n",
       "      <td>BURG FORCE-RES/NIGHT</td>\n",
       "      <td>OTHER</td>\n",
       "      <td>25700  MT RADNOR DR</td>\n",
       "      <td>DAMASCUS</td>\n",
       "      <td>MD</td>\n",
       "      <td>...</td>\n",
       "      <td>NaN</td>\n",
       "      <td>10/02/2013 07:52:00 PM</td>\n",
       "      <td>2013-10-02 19:52:00</td>\n",
       "      <td>NaN</td>\n",
       "      <td>NaT</td>\n",
       "      <td>NaN</td>\n",
       "      <td>NaN</td>\n",
       "      <td>OTHER</td>\n",
       "      <td>NaN</td>\n",
       "      <td>25700.0</td>\n",
       "    </tr>\n",
       "    <tr>\n",
       "      <th>1</th>\n",
       "      <td>200952042</td>\n",
       "      <td>13062965</td>\n",
       "      <td>12/31/2013 09:46:58 PM</td>\n",
       "      <td>2013-12-31 21:46:58</td>\n",
       "      <td>1834</td>\n",
       "      <td>CDS-POSS MARIJUANA/HASHISH</td>\n",
       "      <td>GERMANTOWN</td>\n",
       "      <td>GUNNERS BRANCH  RD</td>\n",
       "      <td>GERMANTOWN</td>\n",
       "      <td>MD</td>\n",
       "      <td>...</td>\n",
       "      <td>470.0</td>\n",
       "      <td>12/31/2013 09:46:00 PM</td>\n",
       "      <td>2013-12-31 21:46:00</td>\n",
       "      <td>NaN</td>\n",
       "      <td>NaT</td>\n",
       "      <td>NaN</td>\n",
       "      <td>NaN</td>\n",
       "      <td>5D</td>\n",
       "      <td>NaN</td>\n",
       "      <td>NaN</td>\n",
       "    </tr>\n",
       "    <tr>\n",
       "      <th>2</th>\n",
       "      <td>200926636</td>\n",
       "      <td>13031483</td>\n",
       "      <td>07/06/2013 09:06:24 AM</td>\n",
       "      <td>2013-07-06 09:06:24</td>\n",
       "      <td>1412</td>\n",
       "      <td>VANDALISM-MOTOR VEHICLE</td>\n",
       "      <td>MONTGOMERY VILLAGE</td>\n",
       "      <td>OLDE TOWNE  AVE</td>\n",
       "      <td>GAITHERSBURG</td>\n",
       "      <td>MD</td>\n",
       "      <td>...</td>\n",
       "      <td>431.0</td>\n",
       "      <td>07/06/2013 09:06:00 AM</td>\n",
       "      <td>2013-07-06 09:06:00</td>\n",
       "      <td>NaN</td>\n",
       "      <td>NaT</td>\n",
       "      <td>NaN</td>\n",
       "      <td>NaN</td>\n",
       "      <td>6D</td>\n",
       "      <td>NaN</td>\n",
       "      <td>NaN</td>\n",
       "    </tr>\n",
       "    <tr>\n",
       "      <th>3</th>\n",
       "      <td>200929538</td>\n",
       "      <td>13035288</td>\n",
       "      <td>07/28/2013 09:13:15 PM</td>\n",
       "      <td>2013-07-28 21:13:15</td>\n",
       "      <td>2752</td>\n",
       "      <td>FUGITIVE FROM JUSTICE(OUT OF STATE)</td>\n",
       "      <td>BETHESDA</td>\n",
       "      <td>BEACH  DR</td>\n",
       "      <td>CHEVY CHASE</td>\n",
       "      <td>MD</td>\n",
       "      <td>...</td>\n",
       "      <td>11.0</td>\n",
       "      <td>07/28/2013 09:13:00 PM</td>\n",
       "      <td>2013-07-28 21:13:00</td>\n",
       "      <td>NaN</td>\n",
       "      <td>NaT</td>\n",
       "      <td>NaN</td>\n",
       "      <td>NaN</td>\n",
       "      <td>2D</td>\n",
       "      <td>NaN</td>\n",
       "      <td>NaN</td>\n",
       "    </tr>\n",
       "    <tr>\n",
       "      <th>4</th>\n",
       "      <td>200930689</td>\n",
       "      <td>13036876</td>\n",
       "      <td>08/06/2013 05:16:17 PM</td>\n",
       "      <td>2013-08-06 17:16:17</td>\n",
       "      <td>2812</td>\n",
       "      <td>DRIVING UNDER THE INFLUENCE</td>\n",
       "      <td>BETHESDA</td>\n",
       "      <td>BEACH  DR</td>\n",
       "      <td>SILVER SPRING</td>\n",
       "      <td>MD</td>\n",
       "      <td>...</td>\n",
       "      <td>178.0</td>\n",
       "      <td>08/06/2013 05:16:00 PM</td>\n",
       "      <td>2013-08-06 17:16:00</td>\n",
       "      <td>NaN</td>\n",
       "      <td>NaT</td>\n",
       "      <td>NaN</td>\n",
       "      <td>NaN</td>\n",
       "      <td>2D</td>\n",
       "      <td>NaN</td>\n",
       "      <td>NaN</td>\n",
       "    </tr>\n",
       "  </tbody>\n",
       "</table>\n",
       "<p>5 rows × 25 columns</p>\n",
       "</div>"
      ],
      "text/plain": [
       "   Incident ID  CR Number    Dispatch Date / Time   datetime_Dispatch  Class  \\\n",
       "0    200939101   13047006  10/02/2013 07:52:41 PM 2013-10-02 19:52:41    511   \n",
       "1    200952042   13062965  12/31/2013 09:46:58 PM 2013-12-31 21:46:58   1834   \n",
       "2    200926636   13031483  07/06/2013 09:06:24 AM 2013-07-06 09:06:24   1412   \n",
       "3    200929538   13035288  07/28/2013 09:13:15 PM 2013-07-28 21:13:15   2752   \n",
       "4    200930689   13036876  08/06/2013 05:16:17 PM 2013-08-06 17:16:17   2812   \n",
       "\n",
       "                     Class Description Police District Name  \\\n",
       "0                 BURG FORCE-RES/NIGHT                OTHER   \n",
       "1           CDS-POSS MARIJUANA/HASHISH           GERMANTOWN   \n",
       "2              VANDALISM-MOTOR VEHICLE   MONTGOMERY VILLAGE   \n",
       "3  FUGITIVE FROM JUSTICE(OUT OF STATE)             BETHESDA   \n",
       "4          DRIVING UNDER THE INFLUENCE             BETHESDA   \n",
       "\n",
       "         Block Address           City State      ...          PRA  \\\n",
       "0  25700  MT RADNOR DR       DAMASCUS    MD      ...          NaN   \n",
       "1   GUNNERS BRANCH  RD     GERMANTOWN    MD      ...        470.0   \n",
       "2      OLDE TOWNE  AVE   GAITHERSBURG    MD      ...        431.0   \n",
       "3            BEACH  DR    CHEVY CHASE    MD      ...         11.0   \n",
       "4            BEACH  DR  SILVER SPRING    MD      ...        178.0   \n",
       "\n",
       "        Start Date / Time      datetime_Start End Date / Time datetime_End  \\\n",
       "0  10/02/2013 07:52:00 PM 2013-10-02 19:52:00             NaN          NaT   \n",
       "1  12/31/2013 09:46:00 PM 2013-12-31 21:46:00             NaN          NaT   \n",
       "2  07/06/2013 09:06:00 AM 2013-07-06 09:06:00             NaN          NaT   \n",
       "3  07/28/2013 09:13:00 PM 2013-07-28 21:13:00             NaN          NaT   \n",
       "4  08/06/2013 05:16:00 PM 2013-08-06 17:16:00             NaN          NaT   \n",
       "\n",
       "   Latitude Longitude Police District Number Location Address Number  \n",
       "0       NaN       NaN                  OTHER      NaN        25700.0  \n",
       "1       NaN       NaN                     5D      NaN            NaN  \n",
       "2       NaN       NaN                     6D      NaN            NaN  \n",
       "3       NaN       NaN                     2D      NaN            NaN  \n",
       "4       NaN       NaN                     2D      NaN            NaN  \n",
       "\n",
       "[5 rows x 25 columns]"
      ]
     },
     "execution_count": 75,
     "metadata": {},
     "output_type": "execute_result"
    }
   ],
   "source": [
    "crimes.head()"
   ]
  },
  {
   "cell_type": "markdown",
   "metadata": {},
   "source": [
    "### 4 Analyzing locations of crimes\n",
    "\n",
    "There are a few columns that encode information about the location of crimes:\n",
    "\n",
    "- <span style=\"background-color: #F9EBEA; color:##C0392B\">Police District Name</span>\n",
    "- <span style=\"background-color: #F9EBEA; color:##C0392B\">Block Address</span>\n",
    "- <span style=\"background-color: #F9EBEA; color:##C0392B\">Zip Code</span>\n",
    "- <span style=\"background-color: #F9EBEA; color:##C0392B\">Sector</span>\n",
    "- <span style=\"background-color: #F9EBEA; color:##C0392B\">Beat</span>\n",
    "- <span style=\"background-color: #F9EBEA; color:##C0392B\">Latitude</span>\n",
    "- <span style=\"background-color: #F9EBEA; color:##C0392B\">Longitude</span>\n",
    "- <span style=\"background-color: #F9EBEA; color:##C0392B\">Police District Number</span>\n",
    "- <span style=\"background-color: #F9EBEA; color:##C0392B\">Location</span>\n",
    "- <span style=\"background-color: #F9EBEA; color:##C0392B\">Address Number</span>"
   ]
  },
  {
   "cell_type": "code",
   "execution_count": 76,
   "metadata": {
    "collapsed": true
   },
   "outputs": [],
   "source": [
    "location_columns = ['Police District Name','Block Address','Zip Code','Sector','Beat',\n",
    "                    'Latitude','Longitude','Police District Number','Location',\n",
    "                    'Address Number']"
   ]
  },
  {
   "cell_type": "markdown",
   "metadata": {},
   "source": [
    "These columns have varying numbers of missing values, and varying granularity. Some of the columns represent areas with large granularity (like police districts), whereas some represent areas with small granularity, like <span style=\"background-color: #F9EBEA; color:##C0392B\">Latitude</span>, and <span style=\"background-color: #F9EBEA; color:##C0392B\">Longitude</span>.\n",
    "\n",
    "\n",
    "In order to decide which column to use to analyze the locations of crimes, you need to utilize the following criteria:\n",
    "\n",
    "- **Granularity**. Areas that are too small aren't great, because only a few crimes were committed inside them, which makes it hard to analyze and compare. For example, if I tell you that Silver Spring (a city in Montgomery County) is the place with the most crimes, you'll know to avoid that area. However, if I tell you that a 100 foot section of Silver Spring has the most crimes, it won't be as helpful (it's unlikely that you'll ever be in that 100 foot section)."
   ]
  },
  {
   "cell_type": "code",
   "execution_count": 77,
   "metadata": {
    "collapsed": false
   },
   "outputs": [
    {
     "name": "stdout",
     "output_type": "stream",
     "text": [
      "Police District Name :  8\n",
      "Block Address :  8143\n",
      "Zip Code :  49\n",
      "Sector :  15\n",
      "Beat :  42\n",
      "Latitude :  8065\n",
      "Longitude :  8065\n",
      "Police District Number :  8\n",
      "Location :  8065\n",
      "Address Number :  286\n"
     ]
    }
   ],
   "source": [
    "for column in location_columns:\n",
    "    count = crimes[column].value_counts().count()\n",
    "    print(column, \": \", count)"
   ]
  },
  {
   "cell_type": "code",
   "execution_count": 78,
   "metadata": {
    "collapsed": false
   },
   "outputs": [
    {
     "name": "stdout",
     "output_type": "stream",
     "text": [
      "Police District Name  Police District Number\n",
      "BETHESDA              2D                        3383\n",
      "GERMANTOWN            5D                        2755\n",
      "MONTGOMERY VILLAGE    6D                        3812\n",
      "OTHER                 OTHER                        8\n",
      "ROCKVILLE             1D                        3480\n",
      "SILVER SPRING         3D                        5533\n",
      "TAKOMA PARK           TPPD                        23\n",
      "WHEATON               4D                        4375\n",
      "Name: Police District Number, dtype: int64\n"
     ]
    }
   ],
   "source": [
    "#students_grades = crimes.groupby([\"Police District Name\"])[\"Beat\"].value_counts()\n",
    "#print(students_grades)\n",
    "\n",
    "pol_dist_relation = crimes.groupby([\"Police District Name\"])[\"Police District Number\"].value_counts()\n",
    "print(pol_dist_count)"
   ]
  },
  {
   "cell_type": "markdown",
   "metadata": {},
   "source": [
    "We will check the granularity of the columns by the different values count of each column.\n",
    "Limiting to variables with less than 50 different values, we will got these variables:\n",
    "\n",
    "- Police District Name :  8  \n",
    "- Zip Code :  49\n",
    "- Sector :  15\n",
    "- Beat :  42\n",
    "- Police District Number :  8\n",
    "\n",
    "From this analysis, the **Police District Name** and **Police District Number** are the variables with the best granularity for this problem, since both have few different values, but not too few."
   ]
  },
  {
   "cell_type": "markdown",
   "metadata": {},
   "source": [
    "- **Comprehensibility**. You looked up the Police District map of Montgomery County before, so it's simple to tell what area corresponds to district <span style=\"background-color: #F9EBEA; color:##C0392B\">6</span>. However, what area does Beat <span style=\"background-color: #F9EBEA; color:##C0392B\">5M1</span> correspond to? You may be able to look this up, but it's harder to comprehend."
   ]
  },
  {
   "cell_type": "code",
   "execution_count": 79,
   "metadata": {
    "collapsed": false
   },
   "outputs": [
    {
     "name": "stdout",
     "output_type": "stream",
     "text": [
      "Police District Name :  Index(['SILVER SPRING', 'WHEATON', 'MONTGOMERY VILLAGE', 'ROCKVILLE',\n",
      "       'BETHESDA'],\n",
      "      dtype='object')\n",
      "Block Address :  Index(['11100  VEIRS MILL RD', '700  RUSSELL AVE', '100  EDISON PARK DR',\n",
      "       '7100  DEMOCRACY BLVD', '12000  CHERRY HILL RD'],\n",
      "      dtype='object')\n",
      "Zip Code :  Float64Index([20910.0, 20904.0, 20902.0, 20877.0, 20874.0], dtype='float64')\n",
      "Sector :  Index(['A', 'G', 'I', 'P', 'D'], dtype='object')\n",
      "Beat :  Index(['3G1', '3I1', '4L2', '1A3', '3I2'], dtype='object')\n",
      "Latitude :  Float64Index([39.0373858785, 39.1506767386, 39.111781485, 39.0219752112,\n",
      "              39.0526973055],\n",
      "             dtype='float64')\n",
      "Longitude :  Float64Index([-77.0516359828, -77.2040589532, -77.2352805179, -77.1466424589,\n",
      "              -76.9531784238],\n",
      "             dtype='float64')\n",
      "Police District Number :  Index(['3D', '4D', '6D', '1D', '2D'], dtype='object')\n",
      "Location :  Index(['(39.037385878480961, -77.051635982808946)',\n",
      "       '(39.150676738601661, -77.20405895316722)',\n",
      "       '(39.111781484977996, -77.235280517911249)',\n",
      "       '(39.02197521120231, -77.14664245887181)',\n",
      "       '(39.052697305485282, -76.953178423831446)'],\n",
      "      dtype='object')\n",
      "Address Number :  Float64Index([1.0, 100.0, 700.0, 11100.0, 800.0], dtype='float64')\n"
     ]
    }
   ],
   "source": [
    "for column in location_columns:\n",
    "    result = crimes[column].value_counts().head().index\n",
    "    print(column, \": \", result)"
   ]
  },
  {
   "cell_type": "markdown",
   "metadata": {},
   "source": [
    "Observing the values of these columns, the **Police District Name** is the variable tha is most comprehensible, since we can know where the facts ocurred without any mapping."
   ]
  },
  {
   "cell_type": "markdown",
   "metadata": {},
   "source": [
    "- **Missing values**. If a column has a lot of missing values, that means that the conclusions you draw are less valid, because you don't know if the missing data is systematic (ie all data for a given district is missing) or random (equal amounts of data are missing from each district). You should try to select a column that has minimal missing values."
   ]
  },
  {
   "cell_type": "code",
   "execution_count": 80,
   "metadata": {
    "collapsed": false
   },
   "outputs": [
    {
     "data": {
      "text/plain": [
       "Police District Name        0\n",
       "Block Address               0\n",
       "Zip Code                   30\n",
       "Sector                     46\n",
       "Beat                        8\n",
       "Latitude                  161\n",
       "Longitude                 161\n",
       "Police District Number      0\n",
       "Location                  161\n",
       "Address Number            132\n",
       "dtype: int64"
      ]
     },
     "execution_count": 80,
     "metadata": {},
     "output_type": "execute_result"
    }
   ],
   "source": [
    "#Missing values\n",
    "location_columns = ['Police District Name','Block Address','Zip Code','Sector','Beat',\n",
    "                    'Latitude','Longitude','Police District Number','Location',\n",
    "                    'Address Number']\n",
    "crimes[location_columns].isnull().sum()"
   ]
  },
  {
   "cell_type": "markdown",
   "metadata": {},
   "source": [
    "Observing the missing values of these columns, the **Police District Name**, **Block address**, **Beat** and **Police District Number** are the variables with less missing values."
   ]
  },
  {
   "cell_type": "markdown",
   "metadata": {},
   "source": [
    "Combining the granularity, comprehensibility and missing values criteria, we choose the variable **Police District Name** because it was best evaluated on these 3 aspects."
   ]
  },
  {
   "cell_type": "markdown",
   "metadata": {},
   "source": [
    "After choose the location variable to use, we could answer these questions:\n",
    "\n",
    "- In what area did the most crimes occur? What physical locations (like cities) does this area correspond to?"
   ]
  },
  {
   "cell_type": "code",
   "execution_count": 81,
   "metadata": {
    "collapsed": false
   },
   "outputs": [
    {
     "name": "stdout",
     "output_type": "stream",
     "text": [
      "Incident ID Null:  0\n",
      "Police District Name  Police District Number\n",
      "SILVER SPRING         3D                        5533\n",
      "WHEATON               4D                        4375\n",
      "MONTGOMERY VILLAGE    6D                        3812\n",
      "ROCKVILLE             1D                        3480\n",
      "BETHESDA              2D                        3383\n",
      "GERMANTOWN            5D                        2755\n",
      "TAKOMA PARK           TPPD                        23\n",
      "OTHER                 OTHER                        8\n",
      "Name: Police District Number, dtype: int64\n"
     ]
    }
   ],
   "source": [
    "print(\"Incident ID Null: \", crimes['Incident ID'].isnull().sum())\n",
    "\n",
    "count = crimes.groupby([\"Police District Name\"])['Police District Number'].value_counts()\n",
    "print (count.sort_values(ascending=False))"
   ]
  },
  {
   "cell_type": "code",
   "execution_count": 82,
   "metadata": {
    "collapsed": false
   },
   "outputs": [
    {
     "data": {
      "text/plain": [
       "Police District Name  City              \n",
       "BETHESDA              BETHESDA              1736\n",
       "                      ROCKVILLE              534\n",
       "                      CHEVY CHASE            496\n",
       "                      KENSINGTON             275\n",
       "                      POTOMAC                162\n",
       "                      SILVER SPRING          158\n",
       "                      CABIN JOHN              18\n",
       "                      GLEN ECHO                4\n",
       "GERMANTOWN            GERMANTOWN            2128\n",
       "                      DAMASCUS               229\n",
       "                      CLARKSBURG             173\n",
       "                      GAITHERSBURG           119\n",
       "                      BOYDS                   86\n",
       "                      DICKERSON                7\n",
       "                      BARNESVILLE              4\n",
       "                      MOUNT AIRY               3\n",
       "                      BROOKEVILLE              2\n",
       "                      DERWOOD                  2\n",
       "                      MONTGOMERY VILLAGE       1\n",
       "                      POOLESVILLE              1\n",
       "MONTGOMERY VILLAGE    GAITHERSBURG          2883\n",
       "                      MONTGOMERY VILLAGE     686\n",
       "                      ROCKVILLE              115\n",
       "                      DERWOOD                114\n",
       "                      WASHINGTON GROVE         6\n",
       "                      GERMANTOWN               4\n",
       "                      OLNEY                    4\n",
       "OTHER                 CHEVY CHASE              1\n",
       "                      DAMASCUS                 1\n",
       "                      GAITHERSBURG             1\n",
       "                                            ... \n",
       "                      LAUREL                   1\n",
       "                      OLNEY                    1\n",
       "ROCKVILLE             ROCKVILLE             2394\n",
       "                      GAITHERSBURG           398\n",
       "                      POTOMAC                365\n",
       "                      DERWOOD                154\n",
       "                      POOLESVILLE            104\n",
       "                      GERMANTOWN              37\n",
       "                      DICKERSON               19\n",
       "                      BOYDS                    4\n",
       "                      SILVER SPRING            3\n",
       "                      BEALLSVILLE              2\n",
       "SILVER SPRING         SILVER SPRING         5102\n",
       "                      BURTONSVILLE           304\n",
       "                      TAKOMA PARK            122\n",
       "                      SPENCERVILLE             3\n",
       "                      CHEVY CHASE              1\n",
       "                      LAUREL                   1\n",
       "TAKOMA PARK           TAKOMA PARK             19\n",
       "                      SILVER SPRING            4\n",
       "WHEATON               SILVER SPRING         3359\n",
       "                      ROCKVILLE              410\n",
       "                      OLNEY                  375\n",
       "                      KENSINGTON              88\n",
       "                      BROOKEVILLE             68\n",
       "                      SANDY SPRING            43\n",
       "                      ASHTON                  19\n",
       "                      SPENCERVILLE             6\n",
       "                      BRINKLOW                 5\n",
       "                      GAITHERSBURG             2\n",
       "Name: City, dtype: int64"
      ]
     },
     "execution_count": 82,
     "metadata": {},
     "output_type": "execute_result"
    }
   ],
   "source": [
    "crimes.groupby([\"Police District Name\"])['City'].value_counts()"
   ]
  },
  {
   "cell_type": "markdown",
   "metadata": {},
   "source": [
    "Silverspring is the area where the most crimes occur. It correspond to the area with the cities **SILVER SPRING, BURTONSVILLE, TAKOMA PARK, SPENCERVILLE, CHEVY CHASE, LAUREL**  "
   ]
  },
  {
   "cell_type": "markdown",
   "metadata": {},
   "source": [
    "- Which area has the highest number of crimes per capita? You may be able to find population data per area online. For example, [this](https://www.montgomerycountymd.gov/POL/Resources/Files/crime/MCP2015AnnualCrimeReportFINAL.pdf) annual report has per-district populations towards the bottom."
   ]
  },
  {
   "cell_type": "code",
   "execution_count": null,
   "metadata": {
    "collapsed": true
   },
   "outputs": [],
   "source": []
  }
 ],
 "metadata": {
  "kernelspec": {
   "display_name": "Python 3",
   "language": "python",
   "name": "python3"
  },
  "language_info": {
   "codemirror_mode": {
    "name": "ipython",
    "version": 3
   },
   "file_extension": ".py",
   "mimetype": "text/x-python",
   "name": "python",
   "nbconvert_exporter": "python",
   "pygments_lexer": "ipython3",
   "version": "3.6.0"
  }
 },
 "nbformat": 4,
 "nbformat_minor": 2
}
