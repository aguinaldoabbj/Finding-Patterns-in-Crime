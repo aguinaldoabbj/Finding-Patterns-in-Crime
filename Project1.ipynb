{
 "cells": [
  {
   "cell_type": "markdown",
   "metadata": {},
   "source": [
    "# Universidade Federal do Rio Grande do Norte\n",
    "## Programa de Pós-graduação em Engenharia Elétrica e de Computação\n",
    "### Course: Tópicos Especiais C\n",
    "### Professor: Ivanovitch Silva\n",
    "### Students: \n",
    "* Aguinaldo Bezerra Batista Júnior\n",
    "* Pedro Klisley Ferreira da Silva\n",
    "* Ycaro Ravel Dantas\n",
    "\n",
    "#### Activity: Task 2, Project 1\n",
    "#### Subject: Finding Patterns in Crime\n",
    "#### Objectives: Perform data analysis of a given dataset following guidance and hints in the professor's notebook.\n",
    "#### Dataset: MontgomeryCountyCrime2013.csv"
   ]
  },
  {
   "cell_type": "markdown",
   "metadata": {},
   "source": [
    "### 1 Getting to know the proposed dataset"
   ]
  },
  {
   "cell_type": "markdown",
   "metadata": {},
   "source": [
    "Loading the given dataset into Pandas object and showing some rows"
   ]
  },
  {
   "cell_type": "code",
   "execution_count": 145,
   "metadata": {
    "scrolled": false
   },
   "outputs": [
    {
     "data": {
      "text/html": [
       "<div>\n",
       "<style>\n",
       "    .dataframe thead tr:only-child th {\n",
       "        text-align: right;\n",
       "    }\n",
       "\n",
       "    .dataframe thead th {\n",
       "        text-align: left;\n",
       "    }\n",
       "\n",
       "    .dataframe tbody tr th {\n",
       "        vertical-align: top;\n",
       "    }\n",
       "</style>\n",
       "<table border=\"1\" class=\"dataframe\">\n",
       "  <thead>\n",
       "    <tr style=\"text-align: right;\">\n",
       "      <th></th>\n",
       "      <th>Incident ID</th>\n",
       "      <th>CR Number</th>\n",
       "      <th>Dispatch Date / Time</th>\n",
       "      <th>Class</th>\n",
       "      <th>Class Description</th>\n",
       "      <th>Police District Name</th>\n",
       "      <th>Block Address</th>\n",
       "      <th>City</th>\n",
       "      <th>State</th>\n",
       "      <th>Zip Code</th>\n",
       "      <th>...</th>\n",
       "      <th>Sector</th>\n",
       "      <th>Beat</th>\n",
       "      <th>PRA</th>\n",
       "      <th>Start Date / Time</th>\n",
       "      <th>End Date / Time</th>\n",
       "      <th>Latitude</th>\n",
       "      <th>Longitude</th>\n",
       "      <th>Police District Number</th>\n",
       "      <th>Location</th>\n",
       "      <th>Address Number</th>\n",
       "    </tr>\n",
       "  </thead>\n",
       "  <tbody>\n",
       "    <tr>\n",
       "      <th>0</th>\n",
       "      <td>200939101</td>\n",
       "      <td>13047006</td>\n",
       "      <td>10/02/2013 07:52:41 PM</td>\n",
       "      <td>511</td>\n",
       "      <td>BURG FORCE-RES/NIGHT</td>\n",
       "      <td>OTHER</td>\n",
       "      <td>25700  MT RADNOR DR</td>\n",
       "      <td>DAMASCUS</td>\n",
       "      <td>MD</td>\n",
       "      <td>20872.0</td>\n",
       "      <td>...</td>\n",
       "      <td>NaN</td>\n",
       "      <td>NaN</td>\n",
       "      <td>NaN</td>\n",
       "      <td>10/02/2013 07:52:00 PM</td>\n",
       "      <td>NaN</td>\n",
       "      <td>NaN</td>\n",
       "      <td>NaN</td>\n",
       "      <td>OTHER</td>\n",
       "      <td>NaN</td>\n",
       "      <td>25700.0</td>\n",
       "    </tr>\n",
       "    <tr>\n",
       "      <th>1</th>\n",
       "      <td>200952042</td>\n",
       "      <td>13062965</td>\n",
       "      <td>12/31/2013 09:46:58 PM</td>\n",
       "      <td>1834</td>\n",
       "      <td>CDS-POSS MARIJUANA/HASHISH</td>\n",
       "      <td>GERMANTOWN</td>\n",
       "      <td>GUNNERS BRANCH  RD</td>\n",
       "      <td>GERMANTOWN</td>\n",
       "      <td>MD</td>\n",
       "      <td>20874.0</td>\n",
       "      <td>...</td>\n",
       "      <td>M</td>\n",
       "      <td>5M1</td>\n",
       "      <td>470.0</td>\n",
       "      <td>12/31/2013 09:46:00 PM</td>\n",
       "      <td>NaN</td>\n",
       "      <td>NaN</td>\n",
       "      <td>NaN</td>\n",
       "      <td>5D</td>\n",
       "      <td>NaN</td>\n",
       "      <td>NaN</td>\n",
       "    </tr>\n",
       "    <tr>\n",
       "      <th>2</th>\n",
       "      <td>200926636</td>\n",
       "      <td>13031483</td>\n",
       "      <td>07/06/2013 09:06:24 AM</td>\n",
       "      <td>1412</td>\n",
       "      <td>VANDALISM-MOTOR VEHICLE</td>\n",
       "      <td>MONTGOMERY VILLAGE</td>\n",
       "      <td>OLDE TOWNE  AVE</td>\n",
       "      <td>GAITHERSBURG</td>\n",
       "      <td>MD</td>\n",
       "      <td>20877.0</td>\n",
       "      <td>...</td>\n",
       "      <td>P</td>\n",
       "      <td>6P3</td>\n",
       "      <td>431.0</td>\n",
       "      <td>07/06/2013 09:06:00 AM</td>\n",
       "      <td>NaN</td>\n",
       "      <td>NaN</td>\n",
       "      <td>NaN</td>\n",
       "      <td>6D</td>\n",
       "      <td>NaN</td>\n",
       "      <td>NaN</td>\n",
       "    </tr>\n",
       "    <tr>\n",
       "      <th>3</th>\n",
       "      <td>200929538</td>\n",
       "      <td>13035288</td>\n",
       "      <td>07/28/2013 09:13:15 PM</td>\n",
       "      <td>2752</td>\n",
       "      <td>FUGITIVE FROM JUSTICE(OUT OF STATE)</td>\n",
       "      <td>BETHESDA</td>\n",
       "      <td>BEACH  DR</td>\n",
       "      <td>CHEVY CHASE</td>\n",
       "      <td>MD</td>\n",
       "      <td>20815.0</td>\n",
       "      <td>...</td>\n",
       "      <td>D</td>\n",
       "      <td>2D1</td>\n",
       "      <td>11.0</td>\n",
       "      <td>07/28/2013 09:13:00 PM</td>\n",
       "      <td>NaN</td>\n",
       "      <td>NaN</td>\n",
       "      <td>NaN</td>\n",
       "      <td>2D</td>\n",
       "      <td>NaN</td>\n",
       "      <td>NaN</td>\n",
       "    </tr>\n",
       "    <tr>\n",
       "      <th>4</th>\n",
       "      <td>200930689</td>\n",
       "      <td>13036876</td>\n",
       "      <td>08/06/2013 05:16:17 PM</td>\n",
       "      <td>2812</td>\n",
       "      <td>DRIVING UNDER THE INFLUENCE</td>\n",
       "      <td>BETHESDA</td>\n",
       "      <td>BEACH  DR</td>\n",
       "      <td>SILVER SPRING</td>\n",
       "      <td>MD</td>\n",
       "      <td>20815.0</td>\n",
       "      <td>...</td>\n",
       "      <td>D</td>\n",
       "      <td>2D3</td>\n",
       "      <td>178.0</td>\n",
       "      <td>08/06/2013 05:16:00 PM</td>\n",
       "      <td>NaN</td>\n",
       "      <td>NaN</td>\n",
       "      <td>NaN</td>\n",
       "      <td>2D</td>\n",
       "      <td>NaN</td>\n",
       "      <td>NaN</td>\n",
       "    </tr>\n",
       "  </tbody>\n",
       "</table>\n",
       "<p>5 rows × 22 columns</p>\n",
       "</div>"
      ],
      "text/plain": [
       "   Incident ID  CR Number    Dispatch Date / Time  Class  \\\n",
       "0    200939101   13047006  10/02/2013 07:52:41 PM    511   \n",
       "1    200952042   13062965  12/31/2013 09:46:58 PM   1834   \n",
       "2    200926636   13031483  07/06/2013 09:06:24 AM   1412   \n",
       "3    200929538   13035288  07/28/2013 09:13:15 PM   2752   \n",
       "4    200930689   13036876  08/06/2013 05:16:17 PM   2812   \n",
       "\n",
       "                     Class Description Police District Name  \\\n",
       "0                 BURG FORCE-RES/NIGHT                OTHER   \n",
       "1           CDS-POSS MARIJUANA/HASHISH           GERMANTOWN   \n",
       "2              VANDALISM-MOTOR VEHICLE   MONTGOMERY VILLAGE   \n",
       "3  FUGITIVE FROM JUSTICE(OUT OF STATE)             BETHESDA   \n",
       "4          DRIVING UNDER THE INFLUENCE             BETHESDA   \n",
       "\n",
       "         Block Address           City State  Zip Code      ...       Sector  \\\n",
       "0  25700  MT RADNOR DR       DAMASCUS    MD   20872.0      ...          NaN   \n",
       "1   GUNNERS BRANCH  RD     GERMANTOWN    MD   20874.0      ...            M   \n",
       "2      OLDE TOWNE  AVE   GAITHERSBURG    MD   20877.0      ...            P   \n",
       "3            BEACH  DR    CHEVY CHASE    MD   20815.0      ...            D   \n",
       "4            BEACH  DR  SILVER SPRING    MD   20815.0      ...            D   \n",
       "\n",
       "  Beat    PRA       Start Date / Time  End Date / Time Latitude Longitude  \\\n",
       "0  NaN    NaN  10/02/2013 07:52:00 PM              NaN      NaN       NaN   \n",
       "1  5M1  470.0  12/31/2013 09:46:00 PM              NaN      NaN       NaN   \n",
       "2  6P3  431.0  07/06/2013 09:06:00 AM              NaN      NaN       NaN   \n",
       "3  2D1   11.0  07/28/2013 09:13:00 PM              NaN      NaN       NaN   \n",
       "4  2D3  178.0  08/06/2013 05:16:00 PM              NaN      NaN       NaN   \n",
       "\n",
       "   Police District Number  Location Address Number  \n",
       "0                   OTHER       NaN        25700.0  \n",
       "1                      5D       NaN            NaN  \n",
       "2                      6D       NaN            NaN  \n",
       "3                      2D       NaN            NaN  \n",
       "4                      2D       NaN            NaN  \n",
       "\n",
       "[5 rows x 22 columns]"
      ]
     },
     "execution_count": 145,
     "metadata": {},
     "output_type": "execute_result"
    }
   ],
   "source": [
    "import matplotlib.pyplot as plt\n",
    "import pandas as pd\n",
    "%matplotlib inline\n",
    "\n",
    "crimes = pd.read_csv(\"MontgomeryCountyCrime2013.csv\")\n",
    "crimes.head()"
   ]
  },
  {
   "cell_type": "markdown",
   "metadata": {},
   "source": [
    "Listing the columns of the dataset and their types"
   ]
  },
  {
   "cell_type": "code",
   "execution_count": 146,
   "metadata": {},
   "outputs": [
    {
     "data": {
      "text/plain": [
       "Index(['Incident ID', 'CR Number', 'Dispatch Date / Time', 'Class',\n",
       "       'Class Description', 'Police District Name', 'Block Address', 'City',\n",
       "       'State', 'Zip Code', 'Agency', 'Place', 'Sector', 'Beat', 'PRA',\n",
       "       'Start Date / Time', 'End Date / Time', 'Latitude', 'Longitude',\n",
       "       'Police District Number', 'Location', 'Address Number'],\n",
       "      dtype='object')"
      ]
     },
     "execution_count": 146,
     "metadata": {},
     "output_type": "execute_result"
    }
   ],
   "source": [
    "crimes.columns"
   ]
  },
  {
   "cell_type": "code",
   "execution_count": 147,
   "metadata": {},
   "outputs": [
    {
     "data": {
      "text/plain": [
       "Incident ID                 int64\n",
       "CR Number                   int64\n",
       "Dispatch Date / Time       object\n",
       "Class                       int64\n",
       "Class Description          object\n",
       "Police District Name       object\n",
       "Block Address              object\n",
       "City                       object\n",
       "State                      object\n",
       "Zip Code                  float64\n",
       "Agency                     object\n",
       "Place                      object\n",
       "Sector                     object\n",
       "Beat                       object\n",
       "PRA                       float64\n",
       "Start Date / Time          object\n",
       "End Date / Time            object\n",
       "Latitude                  float64\n",
       "Longitude                 float64\n",
       "Police District Number     object\n",
       "Location                   object\n",
       "Address Number            float64\n",
       "dtype: object"
      ]
     },
     "execution_count": 147,
     "metadata": {},
     "output_type": "execute_result"
    }
   ],
   "source": [
    "crimes.dtypes"
   ]
  },
  {
   "cell_type": "markdown",
   "metadata": {},
   "source": [
    "By inspecting column names and some cells, we figured out some relations between some columns. Columns **\"Police Distric Name\"** and **\"Police District Number\"** stand for the same information: the identification of the Police District (Name or Code). Similarly, columns **\"Class\"** and **\"Class Description\"** refer to crime classes codes and their descriptions. **\"Location\"** is clearly a join of the information on **\"Latitude\"** and **\"Longitude\" columns**. A quick google search allowed to perceive the meaning of remaining non self-explanatory columns. **\"CR Number\"** refers to the Police Report Number, **\"Beat\"** stands for a police patrol area (subset of a Sector) and **\"PRA\"**, the Police Response Area, is a subset of Beat.\n",
    "\n"
   ]
  },
  {
   "cell_type": "markdown",
   "metadata": {
    "collapsed": true
   },
   "source": [
    "The column **\"Zip Code\"**, as already pointed in the guidance notebook, contains wrong type data. It is important to convert wrong or inadequate type data to more appropriate ones to help further analysis."
   ]
  },
  {
   "cell_type": "markdown",
   "metadata": {},
   "source": [
    "We could convert data in the **\"Zip Code\"** and **\"Address Number\"** columns to the more suitable interger type. However, these columns are full of _NaN_ and the lack of _NaN_ and _NA_ representations in integer columns is a well known Pandas \"gotcha\". Maybe thats why these columns were built as float type data (compatible with NAs and NaNs). A workaround to this problem could be the definition of a sentinel interger values for this kind of data absense."
   ]
  },
  {
   "cell_type": "markdown",
   "metadata": {},
   "source": [
    "NaNs and NAs are likeky to happen in a dataset during data acquisition, transmission and conversion steps. \n",
    "They negatively affect the quality of the dataset and they should be carefuly spotted and evaluated, as they may\n",
    "lead to weak or innacurate conclusions."
   ]
  },
  {
   "cell_type": "markdown",
   "metadata": {},
   "source": [
    "### 2 Preparing Data"
   ]
  },
  {
   "cell_type": "markdown",
   "metadata": {},
   "source": [
    "Converting some columns to more appropriate data types (see if it is really necessary)"
   ]
  },
  {
   "cell_type": "markdown",
   "metadata": {},
   "source": [
    "Converting Date/Time data in columns **\"Dispatch Date / Time\"**, **\"Start Date / Time\"** and **\"End Date / Time\"**\n",
    "from a generic Pandas object to a more convinient Date/Time Pandas object. This will allow the further extraction of date and time components easily. The resulting converted columns are going to be added right next to the original data columns."
   ]
  },
  {
   "cell_type": "code",
   "execution_count": 148,
   "metadata": {
    "collapsed": true
   },
   "outputs": [],
   "source": [
    "crimes.insert(3, \"datetime_Dispatch\", pd.to_datetime(crimes[\"Dispatch Date / Time\"]))"
   ]
  },
  {
   "cell_type": "code",
   "execution_count": 149,
   "metadata": {
    "collapsed": true
   },
   "outputs": [],
   "source": [
    "crimes.insert(17, \"datetime_Start\", pd.to_datetime(crimes[\"Start Date / Time\"]))"
   ]
  },
  {
   "cell_type": "code",
   "execution_count": 150,
   "metadata": {
    "collapsed": true
   },
   "outputs": [],
   "source": [
    "crimes.insert(19, \"datetime_End\", pd.to_datetime(crimes[\"End Date / Time\"]))"
   ]
  },
  {
   "cell_type": "code",
   "execution_count": 151,
   "metadata": {
    "scrolled": false
   },
   "outputs": [
    {
     "data": {
      "text/html": [
       "<div>\n",
       "<style>\n",
       "    .dataframe thead tr:only-child th {\n",
       "        text-align: right;\n",
       "    }\n",
       "\n",
       "    .dataframe thead th {\n",
       "        text-align: left;\n",
       "    }\n",
       "\n",
       "    .dataframe tbody tr th {\n",
       "        vertical-align: top;\n",
       "    }\n",
       "</style>\n",
       "<table border=\"1\" class=\"dataframe\">\n",
       "  <thead>\n",
       "    <tr style=\"text-align: right;\">\n",
       "      <th></th>\n",
       "      <th>Incident ID</th>\n",
       "      <th>CR Number</th>\n",
       "      <th>Dispatch Date / Time</th>\n",
       "      <th>datetime_Dispatch</th>\n",
       "      <th>Class</th>\n",
       "      <th>Class Description</th>\n",
       "      <th>Police District Name</th>\n",
       "      <th>Block Address</th>\n",
       "      <th>City</th>\n",
       "      <th>State</th>\n",
       "      <th>...</th>\n",
       "      <th>PRA</th>\n",
       "      <th>Start Date / Time</th>\n",
       "      <th>datetime_Start</th>\n",
       "      <th>End Date / Time</th>\n",
       "      <th>datetime_End</th>\n",
       "      <th>Latitude</th>\n",
       "      <th>Longitude</th>\n",
       "      <th>Police District Number</th>\n",
       "      <th>Location</th>\n",
       "      <th>Address Number</th>\n",
       "    </tr>\n",
       "  </thead>\n",
       "  <tbody>\n",
       "    <tr>\n",
       "      <th>0</th>\n",
       "      <td>200939101</td>\n",
       "      <td>13047006</td>\n",
       "      <td>10/02/2013 07:52:41 PM</td>\n",
       "      <td>2013-10-02 19:52:41</td>\n",
       "      <td>511</td>\n",
       "      <td>BURG FORCE-RES/NIGHT</td>\n",
       "      <td>OTHER</td>\n",
       "      <td>25700  MT RADNOR DR</td>\n",
       "      <td>DAMASCUS</td>\n",
       "      <td>MD</td>\n",
       "      <td>...</td>\n",
       "      <td>NaN</td>\n",
       "      <td>10/02/2013 07:52:00 PM</td>\n",
       "      <td>2013-10-02 19:52:00</td>\n",
       "      <td>NaN</td>\n",
       "      <td>NaT</td>\n",
       "      <td>NaN</td>\n",
       "      <td>NaN</td>\n",
       "      <td>OTHER</td>\n",
       "      <td>NaN</td>\n",
       "      <td>25700.0</td>\n",
       "    </tr>\n",
       "    <tr>\n",
       "      <th>1</th>\n",
       "      <td>200952042</td>\n",
       "      <td>13062965</td>\n",
       "      <td>12/31/2013 09:46:58 PM</td>\n",
       "      <td>2013-12-31 21:46:58</td>\n",
       "      <td>1834</td>\n",
       "      <td>CDS-POSS MARIJUANA/HASHISH</td>\n",
       "      <td>GERMANTOWN</td>\n",
       "      <td>GUNNERS BRANCH  RD</td>\n",
       "      <td>GERMANTOWN</td>\n",
       "      <td>MD</td>\n",
       "      <td>...</td>\n",
       "      <td>470.0</td>\n",
       "      <td>12/31/2013 09:46:00 PM</td>\n",
       "      <td>2013-12-31 21:46:00</td>\n",
       "      <td>NaN</td>\n",
       "      <td>NaT</td>\n",
       "      <td>NaN</td>\n",
       "      <td>NaN</td>\n",
       "      <td>5D</td>\n",
       "      <td>NaN</td>\n",
       "      <td>NaN</td>\n",
       "    </tr>\n",
       "    <tr>\n",
       "      <th>2</th>\n",
       "      <td>200926636</td>\n",
       "      <td>13031483</td>\n",
       "      <td>07/06/2013 09:06:24 AM</td>\n",
       "      <td>2013-07-06 09:06:24</td>\n",
       "      <td>1412</td>\n",
       "      <td>VANDALISM-MOTOR VEHICLE</td>\n",
       "      <td>MONTGOMERY VILLAGE</td>\n",
       "      <td>OLDE TOWNE  AVE</td>\n",
       "      <td>GAITHERSBURG</td>\n",
       "      <td>MD</td>\n",
       "      <td>...</td>\n",
       "      <td>431.0</td>\n",
       "      <td>07/06/2013 09:06:00 AM</td>\n",
       "      <td>2013-07-06 09:06:00</td>\n",
       "      <td>NaN</td>\n",
       "      <td>NaT</td>\n",
       "      <td>NaN</td>\n",
       "      <td>NaN</td>\n",
       "      <td>6D</td>\n",
       "      <td>NaN</td>\n",
       "      <td>NaN</td>\n",
       "    </tr>\n",
       "    <tr>\n",
       "      <th>3</th>\n",
       "      <td>200929538</td>\n",
       "      <td>13035288</td>\n",
       "      <td>07/28/2013 09:13:15 PM</td>\n",
       "      <td>2013-07-28 21:13:15</td>\n",
       "      <td>2752</td>\n",
       "      <td>FUGITIVE FROM JUSTICE(OUT OF STATE)</td>\n",
       "      <td>BETHESDA</td>\n",
       "      <td>BEACH  DR</td>\n",
       "      <td>CHEVY CHASE</td>\n",
       "      <td>MD</td>\n",
       "      <td>...</td>\n",
       "      <td>11.0</td>\n",
       "      <td>07/28/2013 09:13:00 PM</td>\n",
       "      <td>2013-07-28 21:13:00</td>\n",
       "      <td>NaN</td>\n",
       "      <td>NaT</td>\n",
       "      <td>NaN</td>\n",
       "      <td>NaN</td>\n",
       "      <td>2D</td>\n",
       "      <td>NaN</td>\n",
       "      <td>NaN</td>\n",
       "    </tr>\n",
       "    <tr>\n",
       "      <th>4</th>\n",
       "      <td>200930689</td>\n",
       "      <td>13036876</td>\n",
       "      <td>08/06/2013 05:16:17 PM</td>\n",
       "      <td>2013-08-06 17:16:17</td>\n",
       "      <td>2812</td>\n",
       "      <td>DRIVING UNDER THE INFLUENCE</td>\n",
       "      <td>BETHESDA</td>\n",
       "      <td>BEACH  DR</td>\n",
       "      <td>SILVER SPRING</td>\n",
       "      <td>MD</td>\n",
       "      <td>...</td>\n",
       "      <td>178.0</td>\n",
       "      <td>08/06/2013 05:16:00 PM</td>\n",
       "      <td>2013-08-06 17:16:00</td>\n",
       "      <td>NaN</td>\n",
       "      <td>NaT</td>\n",
       "      <td>NaN</td>\n",
       "      <td>NaN</td>\n",
       "      <td>2D</td>\n",
       "      <td>NaN</td>\n",
       "      <td>NaN</td>\n",
       "    </tr>\n",
       "  </tbody>\n",
       "</table>\n",
       "<p>5 rows × 25 columns</p>\n",
       "</div>"
      ],
      "text/plain": [
       "   Incident ID  CR Number    Dispatch Date / Time   datetime_Dispatch  Class  \\\n",
       "0    200939101   13047006  10/02/2013 07:52:41 PM 2013-10-02 19:52:41    511   \n",
       "1    200952042   13062965  12/31/2013 09:46:58 PM 2013-12-31 21:46:58   1834   \n",
       "2    200926636   13031483  07/06/2013 09:06:24 AM 2013-07-06 09:06:24   1412   \n",
       "3    200929538   13035288  07/28/2013 09:13:15 PM 2013-07-28 21:13:15   2752   \n",
       "4    200930689   13036876  08/06/2013 05:16:17 PM 2013-08-06 17:16:17   2812   \n",
       "\n",
       "                     Class Description Police District Name  \\\n",
       "0                 BURG FORCE-RES/NIGHT                OTHER   \n",
       "1           CDS-POSS MARIJUANA/HASHISH           GERMANTOWN   \n",
       "2              VANDALISM-MOTOR VEHICLE   MONTGOMERY VILLAGE   \n",
       "3  FUGITIVE FROM JUSTICE(OUT OF STATE)             BETHESDA   \n",
       "4          DRIVING UNDER THE INFLUENCE             BETHESDA   \n",
       "\n",
       "         Block Address           City State      ...          PRA  \\\n",
       "0  25700  MT RADNOR DR       DAMASCUS    MD      ...          NaN   \n",
       "1   GUNNERS BRANCH  RD     GERMANTOWN    MD      ...        470.0   \n",
       "2      OLDE TOWNE  AVE   GAITHERSBURG    MD      ...        431.0   \n",
       "3            BEACH  DR    CHEVY CHASE    MD      ...         11.0   \n",
       "4            BEACH  DR  SILVER SPRING    MD      ...        178.0   \n",
       "\n",
       "        Start Date / Time      datetime_Start End Date / Time datetime_End  \\\n",
       "0  10/02/2013 07:52:00 PM 2013-10-02 19:52:00             NaN          NaT   \n",
       "1  12/31/2013 09:46:00 PM 2013-12-31 21:46:00             NaN          NaT   \n",
       "2  07/06/2013 09:06:00 AM 2013-07-06 09:06:00             NaN          NaT   \n",
       "3  07/28/2013 09:13:00 PM 2013-07-28 21:13:00             NaN          NaT   \n",
       "4  08/06/2013 05:16:00 PM 2013-08-06 17:16:00             NaN          NaT   \n",
       "\n",
       "   Latitude Longitude Police District Number Location Address Number  \n",
       "0       NaN       NaN                  OTHER      NaN        25700.0  \n",
       "1       NaN       NaN                     5D      NaN            NaN  \n",
       "2       NaN       NaN                     6D      NaN            NaN  \n",
       "3       NaN       NaN                     2D      NaN            NaN  \n",
       "4       NaN       NaN                     2D      NaN            NaN  \n",
       "\n",
       "[5 rows x 25 columns]"
      ]
     },
     "execution_count": 151,
     "metadata": {},
     "output_type": "execute_result"
    }
   ],
   "source": [
    "crimes.head()"
   ]
  },
  {
   "cell_type": "markdown",
   "metadata": {},
   "source": [
    "Our dataset contains a list of crimes registered between the months of july and december in 2013. Now that we have the columns in the appropriate format, we can sort the values by date. Using the column **'Dispatch Date / Time'**:"
   ]
  },
  {
   "cell_type": "code",
   "execution_count": 152,
   "metadata": {},
   "outputs": [
    {
     "data": {
      "text/html": [
       "<div>\n",
       "<style>\n",
       "    .dataframe thead tr:only-child th {\n",
       "        text-align: right;\n",
       "    }\n",
       "\n",
       "    .dataframe thead th {\n",
       "        text-align: left;\n",
       "    }\n",
       "\n",
       "    .dataframe tbody tr th {\n",
       "        vertical-align: top;\n",
       "    }\n",
       "</style>\n",
       "<table border=\"1\" class=\"dataframe\">\n",
       "  <thead>\n",
       "    <tr style=\"text-align: right;\">\n",
       "      <th></th>\n",
       "      <th>Incident ID</th>\n",
       "      <th>CR Number</th>\n",
       "      <th>Dispatch Date / Time</th>\n",
       "      <th>datetime_Dispatch</th>\n",
       "      <th>Class</th>\n",
       "      <th>Class Description</th>\n",
       "      <th>Police District Name</th>\n",
       "      <th>Block Address</th>\n",
       "      <th>City</th>\n",
       "      <th>State</th>\n",
       "      <th>...</th>\n",
       "      <th>PRA</th>\n",
       "      <th>Start Date / Time</th>\n",
       "      <th>datetime_Start</th>\n",
       "      <th>End Date / Time</th>\n",
       "      <th>datetime_End</th>\n",
       "      <th>Latitude</th>\n",
       "      <th>Longitude</th>\n",
       "      <th>Police District Number</th>\n",
       "      <th>Location</th>\n",
       "      <th>Address Number</th>\n",
       "    </tr>\n",
       "  </thead>\n",
       "  <tbody>\n",
       "    <tr>\n",
       "      <th>18</th>\n",
       "      <td>200925991</td>\n",
       "      <td>13030553</td>\n",
       "      <td>07/01/2013 01:03:17 AM</td>\n",
       "      <td>2013-07-01 01:03:17</td>\n",
       "      <td>2812</td>\n",
       "      <td>DRIVING UNDER THE INFLUENCE</td>\n",
       "      <td>SILVER SPRING</td>\n",
       "      <td>8700  PLYMOUTH ST</td>\n",
       "      <td>SILVER SPRING</td>\n",
       "      <td>MD</td>\n",
       "      <td>...</td>\n",
       "      <td>126.0</td>\n",
       "      <td>07/01/2013 01:03:00 AM</td>\n",
       "      <td>2013-07-01 01:03:00</td>\n",
       "      <td>NaN</td>\n",
       "      <td>NaT</td>\n",
       "      <td>38.999406</td>\n",
       "      <td>-77.007736</td>\n",
       "      <td>3D</td>\n",
       "      <td>(38.999406266117461, -77.007735832110484)</td>\n",
       "      <td>8700.0</td>\n",
       "    </tr>\n",
       "    <tr>\n",
       "      <th>15</th>\n",
       "      <td>200925984</td>\n",
       "      <td>13030556</td>\n",
       "      <td>07/01/2013 01:25:48 AM</td>\n",
       "      <td>2013-07-01 01:25:48</td>\n",
       "      <td>2623</td>\n",
       "      <td>SUICIDE-ATTEMPT-POISON/OVERDOSE</td>\n",
       "      <td>SILVER SPRING</td>\n",
       "      <td>2200  CLARK PL</td>\n",
       "      <td>SILVER SPRING</td>\n",
       "      <td>MD</td>\n",
       "      <td>...</td>\n",
       "      <td>175.0</td>\n",
       "      <td>07/01/2013 01:25:00 AM</td>\n",
       "      <td>2013-07-01 01:25:00</td>\n",
       "      <td>NaN</td>\n",
       "      <td>NaT</td>\n",
       "      <td>39.017814</td>\n",
       "      <td>-77.047689</td>\n",
       "      <td>3D</td>\n",
       "      <td>(39.017814078946948, -77.04768926351224)</td>\n",
       "      <td>2200.0</td>\n",
       "    </tr>\n",
       "    <tr>\n",
       "      <th>63</th>\n",
       "      <td>200926057</td>\n",
       "      <td>13030657</td>\n",
       "      <td>07/01/2013 01:29:14 PM</td>\n",
       "      <td>2013-07-01 13:29:14</td>\n",
       "      <td>617</td>\n",
       "      <td>LARCENY FROM BUILDING OVER $200</td>\n",
       "      <td>SILVER SPRING</td>\n",
       "      <td>8200  FENTON ST</td>\n",
       "      <td>SILVER SPRING</td>\n",
       "      <td>MD</td>\n",
       "      <td>...</td>\n",
       "      <td>93.0</td>\n",
       "      <td>06/28/2013 04:45:00 PM</td>\n",
       "      <td>2013-06-28 16:45:00</td>\n",
       "      <td>NaN</td>\n",
       "      <td>NaT</td>\n",
       "      <td>38.991743</td>\n",
       "      <td>-77.024043</td>\n",
       "      <td>3D</td>\n",
       "      <td>(38.991742503465268, -77.02404349079022)</td>\n",
       "      <td>8200.0</td>\n",
       "    </tr>\n",
       "    <tr>\n",
       "      <th>65</th>\n",
       "      <td>200926059</td>\n",
       "      <td>13030660</td>\n",
       "      <td>07/01/2013 01:29:22 PM</td>\n",
       "      <td>2013-07-01 13:29:22</td>\n",
       "      <td>2938</td>\n",
       "      <td>POL INFORMATION</td>\n",
       "      <td>MONTGOMERY VILLAGE</td>\n",
       "      <td>700  CLOPPER RD</td>\n",
       "      <td>GAITHERSBURG</td>\n",
       "      <td>MD</td>\n",
       "      <td>...</td>\n",
       "      <td>555.0</td>\n",
       "      <td>06/28/2013 06:00:00 PM</td>\n",
       "      <td>2013-06-28 18:00:00</td>\n",
       "      <td>06/28/2013 07:00:00 PM</td>\n",
       "      <td>2013-06-28 19:00:00</td>\n",
       "      <td>39.143717</td>\n",
       "      <td>-77.223842</td>\n",
       "      <td>6D</td>\n",
       "      <td>(39.143716826007477, -77.2238423722319)</td>\n",
       "      <td>700.0</td>\n",
       "    </tr>\n",
       "    <tr>\n",
       "      <th>72</th>\n",
       "      <td>200926068</td>\n",
       "      <td>13030662</td>\n",
       "      <td>07/01/2013 01:39:35 PM</td>\n",
       "      <td>2013-07-01 13:39:35</td>\n",
       "      <td>1014</td>\n",
       "      <td>FORGERY/CNTRFT-ALL OTHER</td>\n",
       "      <td>BETHESDA</td>\n",
       "      <td>9800  MONTAUK AVE</td>\n",
       "      <td>BETHESDA</td>\n",
       "      <td>MD</td>\n",
       "      <td>...</td>\n",
       "      <td>194.0</td>\n",
       "      <td>06/24/2013 01:00:00 PM</td>\n",
       "      <td>2013-06-24 13:00:00</td>\n",
       "      <td>07/01/2013 01:00:00 PM</td>\n",
       "      <td>2013-07-01 13:00:00</td>\n",
       "      <td>39.016598</td>\n",
       "      <td>-77.129364</td>\n",
       "      <td>2D</td>\n",
       "      <td>(39.016598405561517, -77.129363757226471)</td>\n",
       "      <td>9800.0</td>\n",
       "    </tr>\n",
       "  </tbody>\n",
       "</table>\n",
       "<p>5 rows × 25 columns</p>\n",
       "</div>"
      ],
      "text/plain": [
       "    Incident ID  CR Number    Dispatch Date / Time   datetime_Dispatch  Class  \\\n",
       "18    200925991   13030553  07/01/2013 01:03:17 AM 2013-07-01 01:03:17   2812   \n",
       "15    200925984   13030556  07/01/2013 01:25:48 AM 2013-07-01 01:25:48   2623   \n",
       "63    200926057   13030657  07/01/2013 01:29:14 PM 2013-07-01 13:29:14    617   \n",
       "65    200926059   13030660  07/01/2013 01:29:22 PM 2013-07-01 13:29:22   2938   \n",
       "72    200926068   13030662  07/01/2013 01:39:35 PM 2013-07-01 13:39:35   1014   \n",
       "\n",
       "                  Class Description Police District Name      Block Address  \\\n",
       "18      DRIVING UNDER THE INFLUENCE        SILVER SPRING  8700  PLYMOUTH ST   \n",
       "15  SUICIDE-ATTEMPT-POISON/OVERDOSE        SILVER SPRING     2200  CLARK PL   \n",
       "63  LARCENY FROM BUILDING OVER $200        SILVER SPRING    8200  FENTON ST   \n",
       "65                  POL INFORMATION   MONTGOMERY VILLAGE    700  CLOPPER RD   \n",
       "72         FORGERY/CNTRFT-ALL OTHER             BETHESDA  9800  MONTAUK AVE   \n",
       "\n",
       "             City State      ...          PRA       Start Date / Time  \\\n",
       "18  SILVER SPRING    MD      ...        126.0  07/01/2013 01:03:00 AM   \n",
       "15  SILVER SPRING    MD      ...        175.0  07/01/2013 01:25:00 AM   \n",
       "63  SILVER SPRING    MD      ...         93.0  06/28/2013 04:45:00 PM   \n",
       "65   GAITHERSBURG    MD      ...        555.0  06/28/2013 06:00:00 PM   \n",
       "72       BETHESDA    MD      ...        194.0  06/24/2013 01:00:00 PM   \n",
       "\n",
       "        datetime_Start         End Date / Time        datetime_End   Latitude  \\\n",
       "18 2013-07-01 01:03:00                     NaN                 NaT  38.999406   \n",
       "15 2013-07-01 01:25:00                     NaN                 NaT  39.017814   \n",
       "63 2013-06-28 16:45:00                     NaN                 NaT  38.991743   \n",
       "65 2013-06-28 18:00:00  06/28/2013 07:00:00 PM 2013-06-28 19:00:00  39.143717   \n",
       "72 2013-06-24 13:00:00  07/01/2013 01:00:00 PM 2013-07-01 13:00:00  39.016598   \n",
       "\n",
       "    Longitude Police District Number  \\\n",
       "18 -77.007736                     3D   \n",
       "15 -77.047689                     3D   \n",
       "63 -77.024043                     3D   \n",
       "65 -77.223842                     6D   \n",
       "72 -77.129364                     2D   \n",
       "\n",
       "                                     Location Address Number  \n",
       "18  (38.999406266117461, -77.007735832110484)         8700.0  \n",
       "15   (39.017814078946948, -77.04768926351224)         2200.0  \n",
       "63   (38.991742503465268, -77.02404349079022)         8200.0  \n",
       "65    (39.143716826007477, -77.2238423722319)          700.0  \n",
       "72  (39.016598405561517, -77.129363757226471)         9800.0  \n",
       "\n",
       "[5 rows x 25 columns]"
      ]
     },
     "execution_count": 152,
     "metadata": {},
     "output_type": "execute_result"
    }
   ],
   "source": [
    "crimes.sort_values('Dispatch Date / Time').head()"
   ]
  },
  {
   "cell_type": "markdown",
   "metadata": {},
   "source": [
    "And using the column **'Start Date / Time'**:"
   ]
  },
  {
   "cell_type": "code",
   "execution_count": 153,
   "metadata": {},
   "outputs": [
    {
     "data": {
      "text/html": [
       "<div>\n",
       "<style>\n",
       "    .dataframe thead tr:only-child th {\n",
       "        text-align: right;\n",
       "    }\n",
       "\n",
       "    .dataframe thead th {\n",
       "        text-align: left;\n",
       "    }\n",
       "\n",
       "    .dataframe tbody tr th {\n",
       "        vertical-align: top;\n",
       "    }\n",
       "</style>\n",
       "<table border=\"1\" class=\"dataframe\">\n",
       "  <thead>\n",
       "    <tr style=\"text-align: right;\">\n",
       "      <th></th>\n",
       "      <th>Incident ID</th>\n",
       "      <th>CR Number</th>\n",
       "      <th>Dispatch Date / Time</th>\n",
       "      <th>datetime_Dispatch</th>\n",
       "      <th>Class</th>\n",
       "      <th>Class Description</th>\n",
       "      <th>Police District Name</th>\n",
       "      <th>Block Address</th>\n",
       "      <th>City</th>\n",
       "      <th>State</th>\n",
       "      <th>...</th>\n",
       "      <th>PRA</th>\n",
       "      <th>Start Date / Time</th>\n",
       "      <th>datetime_Start</th>\n",
       "      <th>End Date / Time</th>\n",
       "      <th>datetime_End</th>\n",
       "      <th>Latitude</th>\n",
       "      <th>Longitude</th>\n",
       "      <th>Police District Number</th>\n",
       "      <th>Location</th>\n",
       "      <th>Address Number</th>\n",
       "    </tr>\n",
       "  </thead>\n",
       "  <tbody>\n",
       "    <tr>\n",
       "      <th>10484</th>\n",
       "      <td>200938024</td>\n",
       "      <td>13045759</td>\n",
       "      <td>09/25/2013 08:27:18 PM</td>\n",
       "      <td>2013-09-25 20:27:18</td>\n",
       "      <td>2013</td>\n",
       "      <td>FAMILY OFFENSE - ABUSE/CHILD</td>\n",
       "      <td>SILVER SPRING</td>\n",
       "      <td>9200  KINGSBURY DR</td>\n",
       "      <td>SILVER SPRING</td>\n",
       "      <td>MD</td>\n",
       "      <td>...</td>\n",
       "      <td>117.0</td>\n",
       "      <td>01/01/1985 06:00:00 AM</td>\n",
       "      <td>1985-01-01 06:00:00</td>\n",
       "      <td>12/31/1990 11:30:00 PM</td>\n",
       "      <td>1990-12-31 23:30:00</td>\n",
       "      <td>39.004660</td>\n",
       "      <td>-77.021851</td>\n",
       "      <td>3D</td>\n",
       "      <td>(39.004660203241308, -77.021851401891453)</td>\n",
       "      <td>9200.0</td>\n",
       "    </tr>\n",
       "    <tr>\n",
       "      <th>20891</th>\n",
       "      <td>200949682</td>\n",
       "      <td>13060292</td>\n",
       "      <td>12/16/2013 07:39:31 AM</td>\n",
       "      <td>2013-12-16 07:39:31</td>\n",
       "      <td>2013</td>\n",
       "      <td>FAMILY OFFENSE - ABUSE/CHILD</td>\n",
       "      <td>GERMANTOWN</td>\n",
       "      <td>19000  HIGHSTREAM DR</td>\n",
       "      <td>GERMANTOWN</td>\n",
       "      <td>MD</td>\n",
       "      <td>...</td>\n",
       "      <td>596.0</td>\n",
       "      <td>01/01/1997 12:01:00 AM</td>\n",
       "      <td>1997-01-01 00:01:00</td>\n",
       "      <td>12/31/1998 11:59:00 PM</td>\n",
       "      <td>1998-12-31 23:59:00</td>\n",
       "      <td>39.170986</td>\n",
       "      <td>-77.286440</td>\n",
       "      <td>5D</td>\n",
       "      <td>(39.170985984960303, -77.28644024756737)</td>\n",
       "      <td>19000.0</td>\n",
       "    </tr>\n",
       "    <tr>\n",
       "      <th>8638</th>\n",
       "      <td>200935931</td>\n",
       "      <td>13040835</td>\n",
       "      <td>08/29/2013 11:56:45 AM</td>\n",
       "      <td>2013-08-29 11:56:45</td>\n",
       "      <td>2013</td>\n",
       "      <td>FAMILY OFFENSE - ABUSE/CHILD</td>\n",
       "      <td>WHEATON</td>\n",
       "      <td>12700  VEIRS MILL RD</td>\n",
       "      <td>ROCKVILLE</td>\n",
       "      <td>MD</td>\n",
       "      <td>...</td>\n",
       "      <td>339.0</td>\n",
       "      <td>01/01/1999 01:01:00 AM</td>\n",
       "      <td>1999-01-01 01:01:00</td>\n",
       "      <td>12/31/2001 01:01:00 AM</td>\n",
       "      <td>2001-12-31 01:01:00</td>\n",
       "      <td>39.064558</td>\n",
       "      <td>-77.097191</td>\n",
       "      <td>4D</td>\n",
       "      <td>(39.064557709468289, -77.097190838951619)</td>\n",
       "      <td>12700.0</td>\n",
       "    </tr>\n",
       "    <tr>\n",
       "      <th>10646</th>\n",
       "      <td>200938204</td>\n",
       "      <td>13033703</td>\n",
       "      <td>07/19/2013 11:13:47 AM</td>\n",
       "      <td>2013-07-19 11:13:47</td>\n",
       "      <td>2013</td>\n",
       "      <td>FAMILY OFFENSE - ABUSE/CHILD</td>\n",
       "      <td>ROCKVILLE</td>\n",
       "      <td>800  BOWIE RD</td>\n",
       "      <td>ROCKVILLE</td>\n",
       "      <td>MD</td>\n",
       "      <td>...</td>\n",
       "      <td>260.0</td>\n",
       "      <td>01/01/2001 01:00:00 AM</td>\n",
       "      <td>2001-01-01 01:00:00</td>\n",
       "      <td>12/31/2011 12:00:00 AM</td>\n",
       "      <td>2011-12-31 00:00:00</td>\n",
       "      <td>39.074956</td>\n",
       "      <td>-77.149421</td>\n",
       "      <td>1D</td>\n",
       "      <td>(39.074956028321907, -77.14942069804772)</td>\n",
       "      <td>800.0</td>\n",
       "    </tr>\n",
       "    <tr>\n",
       "      <th>4028</th>\n",
       "      <td>200930688</td>\n",
       "      <td>13036892</td>\n",
       "      <td>08/06/2013 06:58:05 PM</td>\n",
       "      <td>2013-08-06 18:58:05</td>\n",
       "      <td>2013</td>\n",
       "      <td>FAMILY OFFENSE - ABUSE/CHILD</td>\n",
       "      <td>ROCKVILLE</td>\n",
       "      <td>7300  CALHOUN PL</td>\n",
       "      <td>ROCKVILLE</td>\n",
       "      <td>MD</td>\n",
       "      <td>...</td>\n",
       "      <td>281.0</td>\n",
       "      <td>01/01/2001 12:00:00 AM</td>\n",
       "      <td>2001-01-01 00:00:00</td>\n",
       "      <td>12/31/2003 12:00:00 AM</td>\n",
       "      <td>2003-12-31 00:00:00</td>\n",
       "      <td>39.107938</td>\n",
       "      <td>-77.148110</td>\n",
       "      <td>1D</td>\n",
       "      <td>(39.107938144546871, -77.148110003940658)</td>\n",
       "      <td>7300.0</td>\n",
       "    </tr>\n",
       "  </tbody>\n",
       "</table>\n",
       "<p>5 rows × 25 columns</p>\n",
       "</div>"
      ],
      "text/plain": [
       "       Incident ID  CR Number    Dispatch Date / Time   datetime_Dispatch  \\\n",
       "10484    200938024   13045759  09/25/2013 08:27:18 PM 2013-09-25 20:27:18   \n",
       "20891    200949682   13060292  12/16/2013 07:39:31 AM 2013-12-16 07:39:31   \n",
       "8638     200935931   13040835  08/29/2013 11:56:45 AM 2013-08-29 11:56:45   \n",
       "10646    200938204   13033703  07/19/2013 11:13:47 AM 2013-07-19 11:13:47   \n",
       "4028     200930688   13036892  08/06/2013 06:58:05 PM 2013-08-06 18:58:05   \n",
       "\n",
       "       Class             Class Description Police District Name  \\\n",
       "10484   2013  FAMILY OFFENSE - ABUSE/CHILD        SILVER SPRING   \n",
       "20891   2013  FAMILY OFFENSE - ABUSE/CHILD           GERMANTOWN   \n",
       "8638    2013  FAMILY OFFENSE - ABUSE/CHILD              WHEATON   \n",
       "10646   2013  FAMILY OFFENSE - ABUSE/CHILD            ROCKVILLE   \n",
       "4028    2013  FAMILY OFFENSE - ABUSE/CHILD            ROCKVILLE   \n",
       "\n",
       "              Block Address           City State      ...          PRA  \\\n",
       "10484    9200  KINGSBURY DR  SILVER SPRING    MD      ...        117.0   \n",
       "20891  19000  HIGHSTREAM DR     GERMANTOWN    MD      ...        596.0   \n",
       "8638   12700  VEIRS MILL RD      ROCKVILLE    MD      ...        339.0   \n",
       "10646         800  BOWIE RD      ROCKVILLE    MD      ...        260.0   \n",
       "4028       7300  CALHOUN PL      ROCKVILLE    MD      ...        281.0   \n",
       "\n",
       "            Start Date / Time      datetime_Start         End Date / Time  \\\n",
       "10484  01/01/1985 06:00:00 AM 1985-01-01 06:00:00  12/31/1990 11:30:00 PM   \n",
       "20891  01/01/1997 12:01:00 AM 1997-01-01 00:01:00  12/31/1998 11:59:00 PM   \n",
       "8638   01/01/1999 01:01:00 AM 1999-01-01 01:01:00  12/31/2001 01:01:00 AM   \n",
       "10646  01/01/2001 01:00:00 AM 2001-01-01 01:00:00  12/31/2011 12:00:00 AM   \n",
       "4028   01/01/2001 12:00:00 AM 2001-01-01 00:00:00  12/31/2003 12:00:00 AM   \n",
       "\n",
       "             datetime_End   Latitude  Longitude Police District Number  \\\n",
       "10484 1990-12-31 23:30:00  39.004660 -77.021851                     3D   \n",
       "20891 1998-12-31 23:59:00  39.170986 -77.286440                     5D   \n",
       "8638  2001-12-31 01:01:00  39.064558 -77.097191                     4D   \n",
       "10646 2011-12-31 00:00:00  39.074956 -77.149421                     1D   \n",
       "4028  2003-12-31 00:00:00  39.107938 -77.148110                     1D   \n",
       "\n",
       "                                        Location Address Number  \n",
       "10484  (39.004660203241308, -77.021851401891453)         9200.0  \n",
       "20891   (39.170985984960303, -77.28644024756737)        19000.0  \n",
       "8638   (39.064557709468289, -77.097190838951619)        12700.0  \n",
       "10646   (39.074956028321907, -77.14942069804772)          800.0  \n",
       "4028   (39.107938144546871, -77.148110003940658)         7300.0  \n",
       "\n",
       "[5 rows x 25 columns]"
      ]
     },
     "execution_count": 153,
     "metadata": {},
     "output_type": "execute_result"
    }
   ],
   "source": [
    "crimes.sort_values('Start Date / Time').head()"
   ]
  },
  {
   "cell_type": "markdown",
   "metadata": {},
   "source": [
    "### 3 Analyzing the times of crimes"
   ]
  },
  {
   "cell_type": "markdown",
   "metadata": {},
   "source": [
    "For making assumptions about dates and times of crimes, we have to look deeper in to the Date/Time columns\n",
    "we had just converted to a convinient datetime format from Pandas. By this conversion, it is possible to access all  the building parts of Date/Time informations (date, time, day, month, hour, minute, etc.) and make interesting computations."
   ]
  },
  {
   "cell_type": "markdown",
   "metadata": {},
   "source": [
    "First, for explanatory analysis, we can count the number of crimes dispatched each day and the number of crimes started each day and see it over the time."
   ]
  },
  {
   "cell_type": "code",
   "execution_count": 154,
   "metadata": {},
   "outputs": [
    {
     "data": {
      "text/plain": [
       "<matplotlib.axes._subplots.AxesSubplot at 0x7f1570f02160>"
      ]
     },
     "execution_count": 154,
     "metadata": {},
     "output_type": "execute_result"
    },
    {
     "data": {
      "image/png": "[encoded data removed]",
      "text/plain": [
       "<matplotlib.figure.Figure at 0x7f157118da58>"
      ]
     },
     "metadata": {},
     "output_type": "display_data"
    }
   ],
   "source": [
    "crimes['number_of_crimes']=1\n",
    "crimes['datetime_Dispatch_date']=crimes['datetime_Dispatch'].dt.date\n",
    "crimes.groupby(by='datetime_Dispatch_date',as_index=False).sum()[['datetime_Dispatch_date','number_of_crimes']].plot(x='datetime_Dispatch_date', y='number_of_crimes')"
   ]
  },
  {
   "cell_type": "code",
   "execution_count": 155,
   "metadata": {},
   "outputs": [
    {
     "data": {
      "text/plain": [
       "<matplotlib.axes._subplots.AxesSubplot at 0x7f157118de80>"
      ]
     },
     "execution_count": 155,
     "metadata": {},
     "output_type": "execute_result"
    },
    {
     "data": {
      "image/png": "[encoded data removed]",
      "text/plain": [
       "<matplotlib.figure.Figure at 0x7f1570e9beb8>"
      ]
     },
     "metadata": {},
     "output_type": "display_data"
    }
   ],
   "source": [
    "crimes['number_of_crimes']=1\n",
    "crimes['datetime_Start_date']=crimes['datetime_Start'].dt.date\n",
    "crimes.groupby(by='datetime_Start_date',as_index=False).sum()[['datetime_Start_date','number_of_crimes']].plot(x='datetime_Start_date', y='number_of_crimes')"
   ]
  },
  {
   "cell_type": "markdown",
   "metadata": {},
   "source": [
    "As we can see, while the \"Dispatch Date / Time\" column contains only dates in 2013, the \"Start Date / Time\" column contains dates from a broader interval. Let's take a look:"
   ]
  },
  {
   "cell_type": "code",
   "execution_count": 156,
   "metadata": {},
   "outputs": [
    {
     "data": {
      "text/plain": [
       "90    07/01/2013 06:01:04 PM\n",
       "94    07/01/2013 06:16:56 PM\n",
       "93    07/01/2013 04:21:33 PM\n",
       "92    07/01/2013 05:37:49 PM\n",
       "91    07/01/2013 03:22:15 PM\n",
       "Name: Dispatch Date / Time, dtype: object"
      ]
     },
     "execution_count": 156,
     "metadata": {},
     "output_type": "execute_result"
    }
   ],
   "source": [
    "# 5 first values of 'Dispatch Date / Time' column, sorted by date\n",
    "crimes.sort_values('datetime_Dispatch_date')['Dispatch Date / Time'].head()"
   ]
  },
  {
   "cell_type": "code",
   "execution_count": 157,
   "metadata": {},
   "outputs": [
    {
     "data": {
      "text/plain": [
       "22876    12/31/2013 07:16:38 PM\n",
       "22906    12/31/2013 01:44:20 PM\n",
       "22920    12/31/2013 05:29:13 PM\n",
       "22774    12/31/2013 12:29:00 AM\n",
       "22775    12/31/2013 01:58:13 AM\n",
       "Name: Dispatch Date / Time, dtype: object"
      ]
     },
     "execution_count": 157,
     "metadata": {},
     "output_type": "execute_result"
    }
   ],
   "source": [
    "# 5 first values of 'Dispatch Date / Time' column, sorted (descending order) by date\n",
    "crimes.sort_values('datetime_Dispatch_date',ascending=False)['Dispatch Date / Time'].head()"
   ]
  },
  {
   "cell_type": "code",
   "execution_count": 158,
   "metadata": {},
   "outputs": [
    {
     "data": {
      "text/html": [
       "<div>\n",
       "<style>\n",
       "    .dataframe thead tr:only-child th {\n",
       "        text-align: right;\n",
       "    }\n",
       "\n",
       "    .dataframe thead th {\n",
       "        text-align: left;\n",
       "    }\n",
       "\n",
       "    .dataframe tbody tr th {\n",
       "        vertical-align: top;\n",
       "    }\n",
       "</style>\n",
       "<table border=\"1\" class=\"dataframe\">\n",
       "  <thead>\n",
       "    <tr style=\"text-align: right;\">\n",
       "      <th></th>\n",
       "      <th>Start Date / Time</th>\n",
       "      <th>Class Description</th>\n",
       "    </tr>\n",
       "  </thead>\n",
       "  <tbody>\n",
       "    <tr>\n",
       "      <th>15953</th>\n",
       "      <td>10/30/1974 12:00:00 AM</td>\n",
       "      <td>FAMILY OFFENSE - ABUSE/CHILD</td>\n",
       "    </tr>\n",
       "    <tr>\n",
       "      <th>17470</th>\n",
       "      <td>02/11/1977 12:00:00 AM</td>\n",
       "      <td>FAMILY OFFENSE - ABUSE/CHILD</td>\n",
       "    </tr>\n",
       "    <tr>\n",
       "      <th>23313</th>\n",
       "      <td>08/24/1980 12:00:00 AM</td>\n",
       "      <td>FAMILY OFFENSE - ABUSE/CHILD</td>\n",
       "    </tr>\n",
       "    <tr>\n",
       "      <th>10484</th>\n",
       "      <td>01/01/1985 06:00:00 AM</td>\n",
       "      <td>FAMILY OFFENSE - ABUSE/CHILD</td>\n",
       "    </tr>\n",
       "    <tr>\n",
       "      <th>17461</th>\n",
       "      <td>08/27/1993 12:00:00 AM</td>\n",
       "      <td>FAMILY OFFENSE - ABUSE/CHILD</td>\n",
       "    </tr>\n",
       "  </tbody>\n",
       "</table>\n",
       "</div>"
      ],
      "text/plain": [
       "            Start Date / Time             Class Description\n",
       "15953  10/30/1974 12:00:00 AM  FAMILY OFFENSE - ABUSE/CHILD\n",
       "17470  02/11/1977 12:00:00 AM  FAMILY OFFENSE - ABUSE/CHILD\n",
       "23313  08/24/1980 12:00:00 AM  FAMILY OFFENSE - ABUSE/CHILD\n",
       "10484  01/01/1985 06:00:00 AM  FAMILY OFFENSE - ABUSE/CHILD\n",
       "17461  08/27/1993 12:00:00 AM  FAMILY OFFENSE - ABUSE/CHILD"
      ]
     },
     "execution_count": 158,
     "metadata": {},
     "output_type": "execute_result"
    }
   ],
   "source": [
    "# 5 first values of 'Dispatch Date / Time' and 'Class Description' columns, sorted by date\n",
    "crimes.sort_values('datetime_Start_date')[['Start Date / Time','Class Description']].head()"
   ]
  },
  {
   "cell_type": "code",
   "execution_count": 159,
   "metadata": {},
   "outputs": [
    {
     "data": {
      "text/html": [
       "<div>\n",
       "<style>\n",
       "    .dataframe thead tr:only-child th {\n",
       "        text-align: right;\n",
       "    }\n",
       "\n",
       "    .dataframe thead th {\n",
       "        text-align: left;\n",
       "    }\n",
       "\n",
       "    .dataframe tbody tr th {\n",
       "        vertical-align: top;\n",
       "    }\n",
       "</style>\n",
       "<table border=\"1\" class=\"dataframe\">\n",
       "  <thead>\n",
       "    <tr style=\"text-align: right;\">\n",
       "      <th></th>\n",
       "      <th>Start Date / Time</th>\n",
       "      <th>Class Description</th>\n",
       "    </tr>\n",
       "  </thead>\n",
       "  <tbody>\n",
       "    <tr>\n",
       "      <th>23323</th>\n",
       "      <td>01/25/2014 03:00:00 PM</td>\n",
       "      <td>EX PARTE/PROTECT. ORDER VIOL.</td>\n",
       "    </tr>\n",
       "    <tr>\n",
       "      <th>22925</th>\n",
       "      <td>12/31/2013 05:15:00 AM</td>\n",
       "      <td>BURG FORCE-RES/TIME UNK</td>\n",
       "    </tr>\n",
       "    <tr>\n",
       "      <th>22852</th>\n",
       "      <td>12/31/2013 01:51:00 PM</td>\n",
       "      <td>LARCENY SHOPLIFTING $50 - $199</td>\n",
       "    </tr>\n",
       "    <tr>\n",
       "      <th>22855</th>\n",
       "      <td>12/31/2013 01:33:00 AM</td>\n",
       "      <td>SIMPLE ASSAULT - PO</td>\n",
       "    </tr>\n",
       "    <tr>\n",
       "      <th>22856</th>\n",
       "      <td>12/31/2013 03:24:00 PM</td>\n",
       "      <td>SUDDEN DEATH NATURAL</td>\n",
       "    </tr>\n",
       "  </tbody>\n",
       "</table>\n",
       "</div>"
      ],
      "text/plain": [
       "            Start Date / Time               Class Description\n",
       "23323  01/25/2014 03:00:00 PM   EX PARTE/PROTECT. ORDER VIOL.\n",
       "22925  12/31/2013 05:15:00 AM         BURG FORCE-RES/TIME UNK\n",
       "22852  12/31/2013 01:51:00 PM  LARCENY SHOPLIFTING $50 - $199\n",
       "22855  12/31/2013 01:33:00 AM             SIMPLE ASSAULT - PO\n",
       "22856  12/31/2013 03:24:00 PM            SUDDEN DEATH NATURAL"
      ]
     },
     "execution_count": 159,
     "metadata": {},
     "output_type": "execute_result"
    }
   ],
   "source": [
    "# 5 first values of 'Dispatch Date / Time' and 'Class Description' columns, sorted (descending order) by date\n",
    "crimes.sort_values('datetime_Start_date', ascending=False)[['Start Date / Time','Class Description']].head()"
   ]
  },
  {
   "cell_type": "markdown",
   "metadata": {},
   "source": [
    "The \"Start Date / Time\" column contains dates from the 70's, 80's, 90's and even one in 2014. Although we can have crimes committed a long time ago and denounced only in 2013, the exact date and time of this old crimes are uncertain. As we can see, most of them were registered with Start Date in the first day of the month and a rounded Time. So, for our analysis about the dates and times of the crimes, let's consider only the crimes started between July and December 2013. For that, we will create a \"window\" in the dataset."
   ]
  },
  {
   "cell_type": "code",
   "execution_count": 160,
   "metadata": {},
   "outputs": [
    {
     "name": "stdout",
     "output_type": "stream",
     "text": [
      "(23369, 28)\n",
      "(22530, 28)\n"
     ]
    }
   ],
   "source": [
    "from datetime import datetime\n",
    "crimes_window = crimes[(crimes['datetime_Start_date']>=datetime.strptime('Jul 01 2013','%b %d %Y').date()) & (crimes['datetime_Start_date']<=datetime.strptime('Dec 31 2013','%b %d %Y').date())]\n",
    "print(crimes.shape)\n",
    "print(crimes_window.shape)"
   ]
  },
  {
   "cell_type": "markdown",
   "metadata": {},
   "source": [
    "So, now we can easily figure out what day of the week are the most crimes committed on:"
   ]
  },
  {
   "cell_type": "code",
   "execution_count": 161,
   "metadata": {},
   "outputs": [
    {
     "name": "stdout",
     "output_type": "stream",
     "text": [
      "Friday       3584\n",
      "Tuesday      3354\n",
      "Wednesday    3301\n",
      "Thursday     3243\n",
      "Saturday     3204\n",
      "Monday       3036\n",
      "Sunday       2808\n",
      "Name: datetime_Start, dtype: int64\n"
     ]
    },
    {
     "data": {
      "text/plain": [
       "<matplotlib.axes._subplots.AxesSubplot at 0x7f1570de9c18>"
      ]
     },
     "execution_count": 161,
     "metadata": {},
     "output_type": "execute_result"
    },
    {
     "data": {
      "image/png": "[encoded data removed]",
      "text/plain": [
       "<matplotlib.figure.Figure at 0x7f1570df7278>"
      ]
     },
     "metadata": {},
     "output_type": "display_data"
    }
   ],
   "source": [
    "print(crimes_window.datetime_Start.dt.weekday_name.value_counts())\n",
    "crimes_window.datetime_Start.dt.weekday_name.value_counts().plot(ylim=[0,4000])"
   ]
  },
  {
   "cell_type": "code",
   "execution_count": 162,
   "metadata": {},
   "outputs": [
    {
     "name": "stdout",
     "output_type": "stream",
     "text": [
      "Friday       0.159077\n",
      "Tuesday      0.148868\n",
      "Wednesday    0.146516\n",
      "Thursday     0.143941\n",
      "Saturday     0.142210\n",
      "Monday       0.134754\n",
      "Sunday       0.124634\n",
      "Name: datetime_Start, dtype: float64\n"
     ]
    }
   ],
   "source": [
    "print(crimes_window.datetime_Start.dt.weekday_name.value_counts(normalize=True))"
   ]
  },
  {
   "cell_type": "markdown",
   "metadata": {},
   "source": [
    "By this day of week crime ranking we can say that **Friday** is the day that most crimes occurred."
   ]
  },
  {
   "cell_type": "markdown",
   "metadata": {},
   "source": [
    "As the datetime object of Pandas does not provide time in part of day format (morning, afternoon, etc.), we could\n",
    "write a little function to map the time crimes occur in part of day strings:"
   ]
  },
  {
   "cell_type": "code",
   "execution_count": 163,
   "metadata": {
    "collapsed": true
   },
   "outputs": [],
   "source": [
    "from datetime import time\n",
    "from datetime import datetime\n",
    "\n",
    "morning_start = time(6)\n",
    "afternoon_start = time(12)\n",
    "evening_start = time(18)\n",
    "evening_end = time(23,59)\n",
    "dawn_start = time(0)\n",
    "\n",
    "def part_of_day(t):\n",
    "    if morning_start <= t < afternoon_start:\n",
    "        return 'morning'\n",
    "    if afternoon_start <= t < evening_start:\n",
    "        return 'afternoon'\n",
    "    if evening_start <= t <= evening_end:\n",
    "        return 'evening'\n",
    "    if dawn_start <= t < morning_start:\n",
    "        return 'dawn'\n",
    "    \n",
    "    return 'unknown'"
   ]
  },
  {
   "cell_type": "markdown",
   "metadata": {},
   "source": [
    "And apply it to the **\"datetime_Start\"** column, placing the results as a new column of the dataset."
   ]
  },
  {
   "cell_type": "code",
   "execution_count": 164,
   "metadata": {},
   "outputs": [
    {
     "name": "stderr",
     "output_type": "stream",
     "text": [
      "/opt/anaconda/lib/python3.6/site-packages/ipykernel_launcher.py:1: SettingWithCopyWarning: \n",
      "A value is trying to be set on a copy of a slice from a DataFrame.\n",
      "Try using .loc[row_indexer,col_indexer] = value instead\n",
      "\n",
      "See the caveats in the documentation: http://pandas.pydata.org/pandas-docs/stable/indexing.html#indexing-view-versus-copy\n",
      "  \"\"\"Entry point for launching an IPython kernel.\n"
     ]
    },
    {
     "data": {
      "text/html": [
       "<div>\n",
       "<style>\n",
       "    .dataframe thead tr:only-child th {\n",
       "        text-align: right;\n",
       "    }\n",
       "\n",
       "    .dataframe thead th {\n",
       "        text-align: left;\n",
       "    }\n",
       "\n",
       "    .dataframe tbody tr th {\n",
       "        vertical-align: top;\n",
       "    }\n",
       "</style>\n",
       "<table border=\"1\" class=\"dataframe\">\n",
       "  <thead>\n",
       "    <tr style=\"text-align: right;\">\n",
       "      <th></th>\n",
       "      <th>datetime_Start</th>\n",
       "      <th>crimes_period</th>\n",
       "    </tr>\n",
       "  </thead>\n",
       "  <tbody>\n",
       "    <tr>\n",
       "      <th>0</th>\n",
       "      <td>2013-10-02 19:52:00</td>\n",
       "      <td>evening</td>\n",
       "    </tr>\n",
       "    <tr>\n",
       "      <th>1</th>\n",
       "      <td>2013-12-31 21:46:00</td>\n",
       "      <td>evening</td>\n",
       "    </tr>\n",
       "    <tr>\n",
       "      <th>2</th>\n",
       "      <td>2013-07-06 09:06:00</td>\n",
       "      <td>morning</td>\n",
       "    </tr>\n",
       "    <tr>\n",
       "      <th>3</th>\n",
       "      <td>2013-07-28 21:13:00</td>\n",
       "      <td>evening</td>\n",
       "    </tr>\n",
       "    <tr>\n",
       "      <th>4</th>\n",
       "      <td>2013-08-06 17:16:00</td>\n",
       "      <td>afternoon</td>\n",
       "    </tr>\n",
       "  </tbody>\n",
       "</table>\n",
       "</div>"
      ],
      "text/plain": [
       "       datetime_Start crimes_period\n",
       "0 2013-10-02 19:52:00       evening\n",
       "1 2013-12-31 21:46:00       evening\n",
       "2 2013-07-06 09:06:00       morning\n",
       "3 2013-07-28 21:13:00       evening\n",
       "4 2013-08-06 17:16:00     afternoon"
      ]
     },
     "execution_count": 164,
     "metadata": {},
     "output_type": "execute_result"
    }
   ],
   "source": [
    "crimes_window['crimes_period'] = crimes_window.datetime_Start.dt.time.apply(part_of_day)\n",
    "crimes_window[['datetime_Start','crimes_period']].head()"
   ]
  },
  {
   "cell_type": "markdown",
   "metadata": {},
   "source": [
    "From this little computation, it is possible to discover what time of day are the most crimes committed:"
   ]
  },
  {
   "cell_type": "code",
   "execution_count": 165,
   "metadata": {},
   "outputs": [
    {
     "name": "stdout",
     "output_type": "stream",
     "text": [
      "evening      7521\n",
      "afternoon    6843\n",
      "dawn         4284\n",
      "morning      3882\n",
      "Name: crimes_period, dtype: int64\n"
     ]
    },
    {
     "data": {
      "text/plain": [
       "<matplotlib.axes._subplots.AxesSubplot at 0x7f1570cdb6a0>"
      ]
     },
     "execution_count": 165,
     "metadata": {},
     "output_type": "execute_result"
    },
    {
     "data": {
      "image/png": "[encoded data removed]",
      "text/plain": [
       "<matplotlib.figure.Figure at 0x7f1570df1f60>"
      ]
     },
     "metadata": {},
     "output_type": "display_data"
    }
   ],
   "source": [
    "print(crimes_window.crimes_period.value_counts())\n",
    "crimes_window.crimes_period.value_counts().plot(ylim=[0, 8000])"
   ]
  },
  {
   "cell_type": "code",
   "execution_count": 166,
   "metadata": {},
   "outputs": [
    {
     "data": {
      "text/plain": [
       "evening      0.333822\n",
       "afternoon    0.303728\n",
       "dawn         0.190146\n",
       "morning      0.172304\n",
       "Name: crimes_period, dtype: float64"
      ]
     },
     "execution_count": 166,
     "metadata": {},
     "output_type": "execute_result"
    }
   ],
   "source": [
    "crimes_window.crimes_period.value_counts(normalize=True)"
   ]
  },
  {
   "cell_type": "markdown",
   "metadata": {},
   "source": [
    "Not surprisingly, the time of the day most crimes occurred is the **evening**."
   ]
  },
  {
   "cell_type": "markdown",
   "metadata": {},
   "source": [
    "Similarly, we can point out which month crimes were more likely to occur in 2013:"
   ]
  },
  {
   "cell_type": "code",
   "execution_count": 167,
   "metadata": {
    "scrolled": true
   },
   "outputs": [
    {
     "name": "stdout",
     "output_type": "stream",
     "text": [
      "10    3963\n",
      "8     3941\n",
      "9     3857\n",
      "11    3808\n",
      "12    3532\n",
      "7     3429\n",
      "Name: datetime_Start, dtype: int64\n"
     ]
    },
    {
     "data": {
      "text/plain": [
       "<matplotlib.axes._subplots.AxesSubplot at 0x7f1570d4f8d0>"
      ]
     },
     "execution_count": 167,
     "metadata": {},
     "output_type": "execute_result"
    },
    {
     "data": {
      "image/png": "[encoded data removed]",
      "text/plain": [
       "<matplotlib.figure.Figure at 0x7f1570cbec18>"
      ]
     },
     "metadata": {},
     "output_type": "display_data"
    }
   ],
   "source": [
    "print(crimes_window.datetime_Start.dt.month.value_counts())\n",
    "crimes_window.datetime_Start.dt.month.value_counts().plot(kind='bar')"
   ]
  },
  {
   "cell_type": "markdown",
   "metadata": {},
   "source": [
    "So, **October** was the most quantitatively violent month."
   ]
  },
  {
   "cell_type": "code",
   "execution_count": 168,
   "metadata": {},
   "outputs": [
    {
     "data": {
      "text/html": [
       "<div>\n",
       "<style>\n",
       "    .dataframe thead tr:only-child th {\n",
       "        text-align: right;\n",
       "    }\n",
       "\n",
       "    .dataframe thead th {\n",
       "        text-align: left;\n",
       "    }\n",
       "\n",
       "    .dataframe tbody tr th {\n",
       "        vertical-align: top;\n",
       "    }\n",
       "</style>\n",
       "<table border=\"1\" class=\"dataframe\">\n",
       "  <thead>\n",
       "    <tr style=\"text-align: right;\">\n",
       "      <th></th>\n",
       "      <th>datetime_Start_date</th>\n",
       "      <th>number_of_crimes</th>\n",
       "    </tr>\n",
       "  </thead>\n",
       "  <tbody>\n",
       "    <tr>\n",
       "      <th>177</th>\n",
       "      <td>2013-12-25</td>\n",
       "      <td>67</td>\n",
       "    </tr>\n",
       "    <tr>\n",
       "      <th>161</th>\n",
       "      <td>2013-12-09</td>\n",
       "      <td>76</td>\n",
       "    </tr>\n",
       "    <tr>\n",
       "      <th>160</th>\n",
       "      <td>2013-12-08</td>\n",
       "      <td>81</td>\n",
       "    </tr>\n",
       "    <tr>\n",
       "      <th>182</th>\n",
       "      <td>2013-12-30</td>\n",
       "      <td>83</td>\n",
       "    </tr>\n",
       "    <tr>\n",
       "      <th>153</th>\n",
       "      <td>2013-12-01</td>\n",
       "      <td>83</td>\n",
       "    </tr>\n",
       "  </tbody>\n",
       "</table>\n",
       "</div>"
      ],
      "text/plain": [
       "    datetime_Start_date  number_of_crimes\n",
       "177          2013-12-25                67\n",
       "161          2013-12-09                76\n",
       "160          2013-12-08                81\n",
       "182          2013-12-30                83\n",
       "153          2013-12-01                83"
      ]
     },
     "execution_count": 168,
     "metadata": {},
     "output_type": "execute_result"
    }
   ],
   "source": [
    "crimes_window.groupby(by='datetime_Start_date',as_index=False).sum()[['datetime_Start_date', 'number_of_crimes']].sort_values('number_of_crimes').head()"
   ]
  },
  {
   "cell_type": "code",
   "execution_count": 169,
   "metadata": {},
   "outputs": [
    {
     "data": {
      "text/html": [
       "<div>\n",
       "<style>\n",
       "    .dataframe thead tr:only-child th {\n",
       "        text-align: right;\n",
       "    }\n",
       "\n",
       "    .dataframe thead th {\n",
       "        text-align: left;\n",
       "    }\n",
       "\n",
       "    .dataframe tbody tr th {\n",
       "        vertical-align: top;\n",
       "    }\n",
       "</style>\n",
       "<table border=\"1\" class=\"dataframe\">\n",
       "  <thead>\n",
       "    <tr style=\"text-align: right;\">\n",
       "      <th></th>\n",
       "      <th>datetime_Dispatch_date</th>\n",
       "      <th>number_of_crimes</th>\n",
       "    </tr>\n",
       "  </thead>\n",
       "  <tbody>\n",
       "    <tr>\n",
       "      <th>0</th>\n",
       "      <td>2013-07-01</td>\n",
       "      <td>52</td>\n",
       "    </tr>\n",
       "    <tr>\n",
       "      <th>177</th>\n",
       "      <td>2013-12-25</td>\n",
       "      <td>56</td>\n",
       "    </tr>\n",
       "    <tr>\n",
       "      <th>3</th>\n",
       "      <td>2013-07-04</td>\n",
       "      <td>59</td>\n",
       "    </tr>\n",
       "    <tr>\n",
       "      <th>13</th>\n",
       "      <td>2013-07-14</td>\n",
       "      <td>68</td>\n",
       "    </tr>\n",
       "    <tr>\n",
       "      <th>5</th>\n",
       "      <td>2013-07-06</td>\n",
       "      <td>70</td>\n",
       "    </tr>\n",
       "  </tbody>\n",
       "</table>\n",
       "</div>"
      ],
      "text/plain": [
       "    datetime_Dispatch_date  number_of_crimes\n",
       "0               2013-07-01                52\n",
       "177             2013-12-25                56\n",
       "3               2013-07-04                59\n",
       "13              2013-07-14                68\n",
       "5               2013-07-06                70"
      ]
     },
     "execution_count": 169,
     "metadata": {},
     "output_type": "execute_result"
    }
   ],
   "source": [
    "crimes_window.groupby(by='datetime_Dispatch_date',as_index=False).sum()[['datetime_Dispatch_date', 'number_of_crimes']].sort_values('number_of_crimes').head()"
   ]
  },
  {
   "cell_type": "markdown",
   "metadata": {},
   "source": [
    "### 4 Analyzing locations of crimes\n",
    "\n",
    "There are a few columns that encode information about the location of crimes:\n",
    "\n",
    "- <span style=\"background-color: #F9EBEA; color:##C0392B\">Police District Name</span>\n",
    "- <span style=\"background-color: #F9EBEA; color:##C0392B\">Block Address</span>\n",
    "- <span style=\"background-color: #F9EBEA; color:##C0392B\">Zip Code</span>\n",
    "- <span style=\"background-color: #F9EBEA; color:##C0392B\">Sector</span>\n",
    "- <span style=\"background-color: #F9EBEA; color:##C0392B\">Beat</span>\n",
    "- <span style=\"background-color: #F9EBEA; color:##C0392B\">Latitude</span>\n",
    "- <span style=\"background-color: #F9EBEA; color:##C0392B\">Longitude</span>\n",
    "- <span style=\"background-color: #F9EBEA; color:##C0392B\">Police District Number</span>\n",
    "- <span style=\"background-color: #F9EBEA; color:##C0392B\">Location</span>\n",
    "- <span style=\"background-color: #F9EBEA; color:##C0392B\">Address Number</span>"
   ]
  },
  {
   "cell_type": "code",
   "execution_count": 170,
   "metadata": {
    "collapsed": true
   },
   "outputs": [],
   "source": [
    "location_columns = ['Police District Name','Block Address','Zip Code','Sector','Beat',\n",
    "                    'Latitude','Longitude','Police District Number','Location',\n",
    "                    'Address Number']"
   ]
  },
  {
   "cell_type": "markdown",
   "metadata": {},
   "source": [
    "These columns have varying numbers of missing values, and varying granularity. Some of the columns represent areas with large granularity (like police districts), whereas some represent areas with small granularity, like <span style=\"background-color: #F9EBEA; color:##C0392B\">Latitude</span>, and <span style=\"background-color: #F9EBEA; color:##C0392B\">Longitude</span>.\n",
    "\n",
    "\n",
    "In order to decide which column to use to analyze the locations of crimes, you need to utilize the following criteria:\n",
    "\n",
    "- **Granularity**. Areas that are too small aren't great, because only a few crimes were committed inside them, which makes it hard to analyze and compare. For example, if I tell you that Silver Spring (a city in Montgomery County) is the place with the most crimes, you'll know to avoid that area. However, if I tell you that a 100 foot section of Silver Spring has the most crimes, it won't be as helpful (it's unlikely that you'll ever be in that 100 foot section)."
   ]
  },
  {
   "cell_type": "code",
   "execution_count": 171,
   "metadata": {},
   "outputs": [
    {
     "name": "stdout",
     "output_type": "stream",
     "text": [
      "Police District Name :  8\n",
      "Block Address :  8143\n",
      "Zip Code :  49\n",
      "Sector :  15\n",
      "Beat :  42\n",
      "Latitude :  8065\n",
      "Longitude :  8065\n",
      "Police District Number :  8\n",
      "Location :  8065\n",
      "Address Number :  286\n"
     ]
    }
   ],
   "source": [
    "for column in location_columns:\n",
    "    count = crimes[column].value_counts().count()\n",
    "    print(column, \": \", count)"
   ]
  },
  {
   "cell_type": "code",
   "execution_count": 172,
   "metadata": {},
   "outputs": [
    {
     "ename": "NameError",
     "evalue": "name 'pol_dist_count' is not defined",
     "output_type": "error",
     "traceback": [
      "\u001b[0;31m---------------------------------------------------------------------------\u001b[0m",
      "\u001b[0;31mNameError\u001b[0m                                 Traceback (most recent call last)",
      "\u001b[0;32m<ipython-input-172-31735dc9db9f>\u001b[0m in \u001b[0;36m<module>\u001b[0;34m()\u001b[0m\n\u001b[1;32m      3\u001b[0m \u001b[0;34m\u001b[0m\u001b[0m\n\u001b[1;32m      4\u001b[0m \u001b[0mpol_dist_relation\u001b[0m \u001b[0;34m=\u001b[0m \u001b[0mcrimes\u001b[0m\u001b[0;34m.\u001b[0m\u001b[0mgroupby\u001b[0m\u001b[0;34m(\u001b[0m\u001b[0;34m[\u001b[0m\u001b[0;34m\"Police District Name\"\u001b[0m\u001b[0;34m]\u001b[0m\u001b[0;34m)\u001b[0m\u001b[0;34m[\u001b[0m\u001b[0;34m\"Police District Number\"\u001b[0m\u001b[0;34m]\u001b[0m\u001b[0;34m.\u001b[0m\u001b[0mvalue_counts\u001b[0m\u001b[0;34m(\u001b[0m\u001b[0;34m)\u001b[0m\u001b[0;34m\u001b[0m\u001b[0m\n\u001b[0;32m----> 5\u001b[0;31m \u001b[0mprint\u001b[0m\u001b[0;34m(\u001b[0m\u001b[0mpol_dist_count\u001b[0m\u001b[0;34m)\u001b[0m\u001b[0;34m\u001b[0m\u001b[0m\n\u001b[0m",
      "\u001b[0;31mNameError\u001b[0m: name 'pol_dist_count' is not defined"
     ]
    }
   ],
   "source": [
    "#students_grades = crimes.groupby([\"Police District Name\"])[\"Beat\"].value_counts()\n",
    "#print(students_grades)\n",
    "\n",
    "pol_dist_relation = crimes.groupby([\"Police District Name\"])[\"Police District Number\"].value_counts()\n",
    "print(pol_dist_count)"
   ]
  },
  {
   "cell_type": "markdown",
   "metadata": {},
   "source": [
    "We will check the granularity of the columns by the different values count of each column.\n",
    "Limiting to variables with less than 50 different values, we will got these variables:\n",
    "\n",
    "- Police District Name :  8  \n",
    "- Zip Code :  49\n",
    "- Sector :  15\n",
    "- Beat :  42\n",
    "- Police District Number :  8\n",
    "\n",
    "From this analysis, the **Police District Name** and **Police District Number** are the variables with the best granularity for this problem, since both have few different values, but not too few."
   ]
  },
  {
   "cell_type": "markdown",
   "metadata": {},
   "source": [
    "- **Comprehensibility**. You looked up the Police District map of Montgomery County before, so it's simple to tell what area corresponds to district <span style=\"background-color: #F9EBEA; color:##C0392B\">6</span>. However, what area does Beat <span style=\"background-color: #F9EBEA; color:##C0392B\">5M1</span> correspond to? You may be able to look this up, but it's harder to comprehend."
   ]
  },
  {
   "cell_type": "code",
   "execution_count": null,
   "metadata": {},
   "outputs": [],
   "source": [
    "for column in location_columns:\n",
    "    result = crimes[column].value_counts().head().index\n",
    "    print(column, \": \", result)"
   ]
  },
  {
   "cell_type": "markdown",
   "metadata": {},
   "source": [
    "Observing the values of these columns, the **Police District Name** is the variable tha is most comprehensible, since we can know where the facts ocurred without any mapping."
   ]
  },
  {
   "cell_type": "markdown",
   "metadata": {},
   "source": [
    "- **Missing values**. If a column has a lot of missing values, that means that the conclusions you draw are less valid, because you don't know if the missing data is systematic (ie all data for a given district is missing) or random (equal amounts of data are missing from each district). You should try to select a column that has minimal missing values."
   ]
  },
  {
   "cell_type": "code",
   "execution_count": null,
   "metadata": {},
   "outputs": [],
   "source": [
    "#Missing values\n",
    "location_columns = ['Police District Name','Block Address','Zip Code','Sector','Beat',\n",
    "                    'Latitude','Longitude','Police District Number','Location',\n",
    "                    'Address Number']\n",
    "crimes[location_columns].isnull().sum()"
   ]
  },
  {
   "cell_type": "markdown",
   "metadata": {},
   "source": [
    "Observing the missing values of these columns, the **Police District Name**, **Block address**, **Beat** and **Police District Number** are the variables with less missing values."
   ]
  },
  {
   "cell_type": "markdown",
   "metadata": {},
   "source": [
    "Combining the granularity, comprehensibility and missing values criteria, we choose the variable **Police District Name** because it was best evaluated on these 3 aspects."
   ]
  },
  {
   "cell_type": "markdown",
   "metadata": {},
   "source": [
    "After choose the location variable to use, we could answer these questions:\n",
    "\n",
    "- In what area did the most crimes occur? What physical locations (like cities) does this area correspond to?"
   ]
  },
  {
   "cell_type": "code",
   "execution_count": null,
   "metadata": {},
   "outputs": [],
   "source": [
    "print(\"Incident ID Null: \", crimes['Incident ID'].isnull().sum())\n",
    "\n",
    "count = crimes.groupby([\"Police District Name\"])['Police District Number'].value_counts()\n",
    "print (count.sort_values(ascending=False))"
   ]
  },
  {
   "cell_type": "code",
   "execution_count": null,
   "metadata": {},
   "outputs": [],
   "source": [
    "crimes.groupby([\"Police District Name\"])['City'].value_counts()"
   ]
  },
  {
   "cell_type": "markdown",
   "metadata": {},
   "source": [
    "Silverspring is the area where the most crimes occur. It correspond to the area with the cities **SILVER SPRING, BURTONSVILLE, TAKOMA PARK, SPENCERVILLE, CHEVY CHASE, LAUREL**  "
   ]
  },
  {
   "cell_type": "markdown",
   "metadata": {},
   "source": [
    "- Which area has the highest number of crimes per capita? You may be able to find population data per area online. For example, [this](https://www.montgomerycountymd.gov/POL/Resources/Files/crime/MCP2015AnnualCrimeReportFINAL.pdf) annual report has per-district populations towards the bottom."
   ]
  },
  {
   "cell_type": "markdown",
   "metadata": {
    "collapsed": true
   },
   "source": [
    "### 5 Analyzing types of crime"
   ]
  },
  {
   "cell_type": "markdown",
   "metadata": {},
   "source": [
    "To make a deeper analysis about the crime categories listed in the events, it is necessary to account crime categories in the dataset by aggregating categories in rows and accounting the frequencies for crime categories. We can first check the crime class variety:"
   ]
  },
  {
   "cell_type": "code",
   "execution_count": 173,
   "metadata": {},
   "outputs": [
    {
     "data": {
      "text/html": [
       "<div>\n",
       "<style>\n",
       "    .dataframe thead tr:only-child th {\n",
       "        text-align: right;\n",
       "    }\n",
       "\n",
       "    .dataframe thead th {\n",
       "        text-align: left;\n",
       "    }\n",
       "\n",
       "    .dataframe tbody tr th {\n",
       "        vertical-align: top;\n",
       "    }\n",
       "</style>\n",
       "<table border=\"1\" class=\"dataframe\">\n",
       "  <thead>\n",
       "    <tr style=\"text-align: right;\">\n",
       "      <th></th>\n",
       "      <th>Class</th>\n",
       "      <th>Class Description</th>\n",
       "    </tr>\n",
       "  </thead>\n",
       "  <tbody>\n",
       "    <tr>\n",
       "      <th>0</th>\n",
       "      <td>111</td>\n",
       "      <td>HOMICIDE-FIREARM</td>\n",
       "    </tr>\n",
       "    <tr>\n",
       "      <th>1</th>\n",
       "      <td>115</td>\n",
       "      <td>HOMICIDE-OTHER</td>\n",
       "    </tr>\n",
       "    <tr>\n",
       "      <th>2</th>\n",
       "      <td>211</td>\n",
       "      <td>RAPE-FORCE</td>\n",
       "    </tr>\n",
       "    <tr>\n",
       "      <th>3</th>\n",
       "      <td>212</td>\n",
       "      <td>RAPE - ATTEMPT - FORCE</td>\n",
       "    </tr>\n",
       "    <tr>\n",
       "      <th>4</th>\n",
       "      <td>311</td>\n",
       "      <td>ROB FIREARM - STREET</td>\n",
       "    </tr>\n",
       "    <tr>\n",
       "      <th>5</th>\n",
       "      <td>312</td>\n",
       "      <td>ROB FIREARM - COMMERCIAL</td>\n",
       "    </tr>\n",
       "    <tr>\n",
       "      <th>6</th>\n",
       "      <td>313</td>\n",
       "      <td>ROB FIREARM - GAS/SVC STA</td>\n",
       "    </tr>\n",
       "    <tr>\n",
       "      <th>7</th>\n",
       "      <td>314</td>\n",
       "      <td>ROB FIREARM - CONV. STORE</td>\n",
       "    </tr>\n",
       "    <tr>\n",
       "      <th>8</th>\n",
       "      <td>315</td>\n",
       "      <td>ROB FIREARM - RESIDENTIAL</td>\n",
       "    </tr>\n",
       "    <tr>\n",
       "      <th>9</th>\n",
       "      <td>316</td>\n",
       "      <td>ROB FIREARM - FINANCIAL INSTITUTION</td>\n",
       "    </tr>\n",
       "    <tr>\n",
       "      <th>10</th>\n",
       "      <td>317</td>\n",
       "      <td>ROB FIREARM - OTHER</td>\n",
       "    </tr>\n",
       "    <tr>\n",
       "      <th>11</th>\n",
       "      <td>318</td>\n",
       "      <td>ROB FIREARM CARJACK</td>\n",
       "    </tr>\n",
       "    <tr>\n",
       "      <th>12</th>\n",
       "      <td>321</td>\n",
       "      <td>ROB KNIFE/CUT INST - STREET</td>\n",
       "    </tr>\n",
       "    <tr>\n",
       "      <th>13</th>\n",
       "      <td>322</td>\n",
       "      <td>ROB KNIFE/CUT INST - COMM</td>\n",
       "    </tr>\n",
       "    <tr>\n",
       "      <th>14</th>\n",
       "      <td>324</td>\n",
       "      <td>ROB KNIFE/CUT - CONV. STORE</td>\n",
       "    </tr>\n",
       "    <tr>\n",
       "      <th>15</th>\n",
       "      <td>325</td>\n",
       "      <td>ROB KNIFE/CUT INST - RESIDENTIAL</td>\n",
       "    </tr>\n",
       "    <tr>\n",
       "      <th>16</th>\n",
       "      <td>327</td>\n",
       "      <td>ROB KNIFE/CUT INS - OTHER</td>\n",
       "    </tr>\n",
       "    <tr>\n",
       "      <th>17</th>\n",
       "      <td>328</td>\n",
       "      <td>ROB KNIFE CUT CARJACK</td>\n",
       "    </tr>\n",
       "    <tr>\n",
       "      <th>18</th>\n",
       "      <td>331</td>\n",
       "      <td>ROB OTHER WEAPON - STREET</td>\n",
       "    </tr>\n",
       "    <tr>\n",
       "      <th>19</th>\n",
       "      <td>332</td>\n",
       "      <td>ROB OTHER WEAPON - COMM</td>\n",
       "    </tr>\n",
       "    <tr>\n",
       "      <th>20</th>\n",
       "      <td>333</td>\n",
       "      <td>ROB OTHER WEAPON GAS/SVC  STA</td>\n",
       "    </tr>\n",
       "    <tr>\n",
       "      <th>21</th>\n",
       "      <td>335</td>\n",
       "      <td>ROB OTHER WEAPON - RES</td>\n",
       "    </tr>\n",
       "    <tr>\n",
       "      <th>22</th>\n",
       "      <td>337</td>\n",
       "      <td>ROB OTHER WEAPON - OTHER</td>\n",
       "    </tr>\n",
       "    <tr>\n",
       "      <th>23</th>\n",
       "      <td>341</td>\n",
       "      <td>ROB STNG ARM - STREET</td>\n",
       "    </tr>\n",
       "    <tr>\n",
       "      <th>24</th>\n",
       "      <td>342</td>\n",
       "      <td>ROB STNG ARM - COMM</td>\n",
       "    </tr>\n",
       "    <tr>\n",
       "      <th>25</th>\n",
       "      <td>343</td>\n",
       "      <td>ROB STN ARM - GAS/SVC STA</td>\n",
       "    </tr>\n",
       "    <tr>\n",
       "      <th>26</th>\n",
       "      <td>344</td>\n",
       "      <td>ROB STN ARM - CONV. STORE</td>\n",
       "    </tr>\n",
       "    <tr>\n",
       "      <th>27</th>\n",
       "      <td>345</td>\n",
       "      <td>ROB STNG ARM - RES</td>\n",
       "    </tr>\n",
       "    <tr>\n",
       "      <th>28</th>\n",
       "      <td>346</td>\n",
       "      <td>ROB STNG ARM - FINANCIAL INSTITUTION</td>\n",
       "    </tr>\n",
       "    <tr>\n",
       "      <th>29</th>\n",
       "      <td>347</td>\n",
       "      <td>ROB STNG ARM - OTHER</td>\n",
       "    </tr>\n",
       "    <tr>\n",
       "      <th>...</th>\n",
       "      <td>...</td>\n",
       "      <td>...</td>\n",
       "    </tr>\n",
       "    <tr>\n",
       "      <th>255</th>\n",
       "      <td>2752</td>\n",
       "      <td>FUGITIVE FROM JUSTICE(OUT OF STATE)</td>\n",
       "    </tr>\n",
       "    <tr>\n",
       "      <th>256</th>\n",
       "      <td>2791</td>\n",
       "      <td>ALL OTHER NON-TRAFFIC CRIM OFFENSES</td>\n",
       "    </tr>\n",
       "    <tr>\n",
       "      <th>257</th>\n",
       "      <td>2811</td>\n",
       "      <td>ABANDONED AUTO</td>\n",
       "    </tr>\n",
       "    <tr>\n",
       "      <th>258</th>\n",
       "      <td>2812</td>\n",
       "      <td>DRIVING UNDER THE INFLUENCE</td>\n",
       "    </tr>\n",
       "    <tr>\n",
       "      <th>259</th>\n",
       "      <td>2813</td>\n",
       "      <td>TRAFFIC HAZARD</td>\n",
       "    </tr>\n",
       "    <tr>\n",
       "      <th>260</th>\n",
       "      <td>2814</td>\n",
       "      <td>PARKING OFFENSES</td>\n",
       "    </tr>\n",
       "    <tr>\n",
       "      <th>261</th>\n",
       "      <td>2815</td>\n",
       "      <td>VIOLATION OF ALCOHOL RESTRICTION</td>\n",
       "    </tr>\n",
       "    <tr>\n",
       "      <th>262</th>\n",
       "      <td>2911</td>\n",
       "      <td>SUDDEN DEATH ACC NON TRAFF</td>\n",
       "    </tr>\n",
       "    <tr>\n",
       "      <th>263</th>\n",
       "      <td>2912</td>\n",
       "      <td>SUDDEN DEATH DROWNING</td>\n",
       "    </tr>\n",
       "    <tr>\n",
       "      <th>264</th>\n",
       "      <td>2913</td>\n",
       "      <td>SUDDEN DEATH NATURAL</td>\n",
       "    </tr>\n",
       "    <tr>\n",
       "      <th>265</th>\n",
       "      <td>2914</td>\n",
       "      <td>SUDDEN DEATH UNDETERMINED</td>\n",
       "    </tr>\n",
       "    <tr>\n",
       "      <th>266</th>\n",
       "      <td>2934</td>\n",
       "      <td>DRUNK</td>\n",
       "    </tr>\n",
       "    <tr>\n",
       "      <th>267</th>\n",
       "      <td>2935</td>\n",
       "      <td>FIRE OTHER</td>\n",
       "    </tr>\n",
       "    <tr>\n",
       "      <th>268</th>\n",
       "      <td>2936</td>\n",
       "      <td>ILL PERSON</td>\n",
       "    </tr>\n",
       "    <tr>\n",
       "      <th>269</th>\n",
       "      <td>2937</td>\n",
       "      <td>INJURY- NONTRAFFIC</td>\n",
       "    </tr>\n",
       "    <tr>\n",
       "      <th>270</th>\n",
       "      <td>2938</td>\n",
       "      <td>POL INFORMATION</td>\n",
       "    </tr>\n",
       "    <tr>\n",
       "      <th>271</th>\n",
       "      <td>2939</td>\n",
       "      <td>HOMELAND SECURITY EVENT</td>\n",
       "    </tr>\n",
       "    <tr>\n",
       "      <th>272</th>\n",
       "      <td>2941</td>\n",
       "      <td>LOST PROPERTY</td>\n",
       "    </tr>\n",
       "    <tr>\n",
       "      <th>273</th>\n",
       "      <td>2942</td>\n",
       "      <td>MENTAL TRANSPORT</td>\n",
       "    </tr>\n",
       "    <tr>\n",
       "      <th>274</th>\n",
       "      <td>2943</td>\n",
       "      <td>MISSING PERSON</td>\n",
       "    </tr>\n",
       "    <tr>\n",
       "      <th>275</th>\n",
       "      <td>2945</td>\n",
       "      <td>RECOVERED PROPERTY - FIREARM</td>\n",
       "    </tr>\n",
       "    <tr>\n",
       "      <th>276</th>\n",
       "      <td>2946</td>\n",
       "      <td>RECOVERED PROPERTY/MONT. CO.</td>\n",
       "    </tr>\n",
       "    <tr>\n",
       "      <th>277</th>\n",
       "      <td>2947</td>\n",
       "      <td>RECOVERED PROPERTY/OTHER</td>\n",
       "    </tr>\n",
       "    <tr>\n",
       "      <th>278</th>\n",
       "      <td>2949</td>\n",
       "      <td>SANE COLLECTION NON-STRANGER</td>\n",
       "    </tr>\n",
       "    <tr>\n",
       "      <th>279</th>\n",
       "      <td>2951</td>\n",
       "      <td>FAMILY TROUBLE</td>\n",
       "    </tr>\n",
       "    <tr>\n",
       "      <th>280</th>\n",
       "      <td>2952</td>\n",
       "      <td>SUSPICIOUS SIT/PERSON/VEHICLE</td>\n",
       "    </tr>\n",
       "    <tr>\n",
       "      <th>281</th>\n",
       "      <td>2991</td>\n",
       "      <td>OTHER MISCELLANEOUS</td>\n",
       "    </tr>\n",
       "    <tr>\n",
       "      <th>282</th>\n",
       "      <td>3213</td>\n",
       "      <td>ANIMAL OFFENSE - HOT CAR</td>\n",
       "    </tr>\n",
       "    <tr>\n",
       "      <th>283</th>\n",
       "      <td>3220</td>\n",
       "      <td>ANIMAL OFFENSE - AGG ANIMAL/BITE</td>\n",
       "    </tr>\n",
       "    <tr>\n",
       "      <th>284</th>\n",
       "      <td>3240</td>\n",
       "      <td>ANIMAL NUISANCE/BARKING</td>\n",
       "    </tr>\n",
       "  </tbody>\n",
       "</table>\n",
       "<p>285 rows × 2 columns</p>\n",
       "</div>"
      ],
      "text/plain": [
       "     Class                     Class Description\n",
       "0      111                      HOMICIDE-FIREARM\n",
       "1      115                        HOMICIDE-OTHER\n",
       "2      211                            RAPE-FORCE\n",
       "3      212                RAPE - ATTEMPT - FORCE\n",
       "4      311                  ROB FIREARM - STREET\n",
       "5      312              ROB FIREARM - COMMERCIAL\n",
       "6      313             ROB FIREARM - GAS/SVC STA\n",
       "7      314             ROB FIREARM - CONV. STORE\n",
       "8      315             ROB FIREARM - RESIDENTIAL\n",
       "9      316   ROB FIREARM - FINANCIAL INSTITUTION\n",
       "10     317                   ROB FIREARM - OTHER\n",
       "11     318                   ROB FIREARM CARJACK\n",
       "12     321           ROB KNIFE/CUT INST - STREET\n",
       "13     322             ROB KNIFE/CUT INST - COMM\n",
       "14     324           ROB KNIFE/CUT - CONV. STORE\n",
       "15     325      ROB KNIFE/CUT INST - RESIDENTIAL\n",
       "16     327             ROB KNIFE/CUT INS - OTHER\n",
       "17     328                 ROB KNIFE CUT CARJACK\n",
       "18     331             ROB OTHER WEAPON - STREET\n",
       "19     332               ROB OTHER WEAPON - COMM\n",
       "20     333         ROB OTHER WEAPON GAS/SVC  STA\n",
       "21     335                ROB OTHER WEAPON - RES\n",
       "22     337              ROB OTHER WEAPON - OTHER\n",
       "23     341                 ROB STNG ARM - STREET\n",
       "24     342                   ROB STNG ARM - COMM\n",
       "25     343             ROB STN ARM - GAS/SVC STA\n",
       "26     344             ROB STN ARM - CONV. STORE\n",
       "27     345                    ROB STNG ARM - RES\n",
       "28     346  ROB STNG ARM - FINANCIAL INSTITUTION\n",
       "29     347                  ROB STNG ARM - OTHER\n",
       "..     ...                                   ...\n",
       "255   2752   FUGITIVE FROM JUSTICE(OUT OF STATE)\n",
       "256   2791   ALL OTHER NON-TRAFFIC CRIM OFFENSES\n",
       "257   2811                        ABANDONED AUTO\n",
       "258   2812           DRIVING UNDER THE INFLUENCE\n",
       "259   2813                        TRAFFIC HAZARD\n",
       "260   2814                      PARKING OFFENSES\n",
       "261   2815      VIOLATION OF ALCOHOL RESTRICTION\n",
       "262   2911            SUDDEN DEATH ACC NON TRAFF\n",
       "263   2912                 SUDDEN DEATH DROWNING\n",
       "264   2913                  SUDDEN DEATH NATURAL\n",
       "265   2914             SUDDEN DEATH UNDETERMINED\n",
       "266   2934                                 DRUNK\n",
       "267   2935                            FIRE OTHER\n",
       "268   2936                            ILL PERSON\n",
       "269   2937                    INJURY- NONTRAFFIC\n",
       "270   2938                       POL INFORMATION\n",
       "271   2939               HOMELAND SECURITY EVENT\n",
       "272   2941                         LOST PROPERTY\n",
       "273   2942                      MENTAL TRANSPORT\n",
       "274   2943                        MISSING PERSON\n",
       "275   2945          RECOVERED PROPERTY - FIREARM\n",
       "276   2946          RECOVERED PROPERTY/MONT. CO.\n",
       "277   2947              RECOVERED PROPERTY/OTHER\n",
       "278   2949          SANE COLLECTION NON-STRANGER\n",
       "279   2951                        FAMILY TROUBLE\n",
       "280   2952         SUSPICIOUS SIT/PERSON/VEHICLE\n",
       "281   2991                   OTHER MISCELLANEOUS\n",
       "282   3213              ANIMAL OFFENSE - HOT CAR\n",
       "283   3220      ANIMAL OFFENSE - AGG ANIMAL/BITE\n",
       "284   3240               ANIMAL NUISANCE/BARKING\n",
       "\n",
       "[285 rows x 2 columns]"
      ]
     },
     "execution_count": 173,
     "metadata": {},
     "output_type": "execute_result"
    }
   ],
   "source": [
    "crimes.groupby(['Class','Class Description'],as_index=False).sum()[['Class','Class Description']]"
   ]
  },
  {
   "cell_type": "markdown",
   "metadata": {},
   "source": [
    "The above table shows that there are **285** crimes classes in the dataset, alongside with their respective descriptions. A brief observation of these descriptions shows that not all occurrencies are directly or closely related to crimes. This makes us believe that the provided dataset does not list only crimes but rather police reports. Anyway, the next step is to account the frequencies for each crime class:"
   ]
  },
  {
   "cell_type": "code",
   "execution_count": 176,
   "metadata": {},
   "outputs": [
    {
     "name": "stdout",
     "output_type": "stream",
     "text": [
      "DRIVING UNDER THE INFLUENCE               1710\n",
      "CDS-POSS MARIJUANA/HASHISH                1334\n",
      "POL INFORMATION                           1191\n",
      "LARCENY FROM AUTO OVER $200                914\n",
      "LARCENY FROM BUILDING OVER $200            895\n",
      "MENTAL TRANSPORT                           841\n",
      "VANDALISM-MOTOR VEHICLE                    762\n",
      "LOST PROPERTY                              729\n",
      "LARCENY OTHER OVER $200                    652\n",
      "LARCENY FROM AUTO UNDER $50                610\n",
      "FORGERY/CNTRFT - IDENTITY THEFT            596\n",
      "LARCENY SHOPLIFTING OVER $200              529\n",
      "LARCENY SHOPLIFTING $50 - $199             489\n",
      "LIQUOR - DRINK IN PUB OVER 21              482\n",
      "DISORDERLY CONDUCT                         464\n",
      "ASSAULT & BATTERY - CITIZEN                382\n",
      "LARCENY FROM AUTO $50 - $199               356\n",
      "FORGERY/CNTRFT-CRDT CARDS                  342\n",
      "MISSING PERSON                             341\n",
      "SIMPLE ASSAULT - CITIZEN                   311\n",
      "CDS IMPLMNT-MARIJUANA/HASHISH              297\n",
      "AUTO THEFT - PASSENGER VEHICLE             293\n",
      "ASSAULT & BATTERY SPOUSE/PARTNER           290\n",
      "LARCENY AUTO PART UNDER $50                267\n",
      "LARCENY SHOPLIFTING UNDER $50              258\n",
      "JUVENILE RUNAWAY                           258\n",
      "BURG FORCE-RES/DAY                         240\n",
      "SUDDEN DEATH NATURAL                       223\n",
      "TRESPASSING                                223\n",
      "LARCENY FROM BUILDING $50-$199             221\n",
      "                                          ... \n",
      "CDS-POSS INHALANT/GLUE/AEROSOL               1\n",
      "LARCENY COIN MACH OVER $200                  1\n",
      "HOMICIDE-OTHER                               1\n",
      "SUICIDE-ATTEMPT-FIREARM                      1\n",
      "ROB STN ARM - GAS/SVC STA                    1\n",
      "ABANDONED AUTO                               1\n",
      "CDS-USE SYNTH DEMEROL/METADONE               1\n",
      "CDS-MANU DRUG OVERDOSE NOT FATAL             1\n",
      "BURG NO FORCE - SCH/TIME UNK                 1\n",
      "VANDALISM GRAFFITI CHURCH/TEMP               1\n",
      "LARCENY COIN MACH $50-$199                   1\n",
      "BURG FORCE-SCH/DAY                           1\n",
      "BURG FORCE-SCH/TIME UNK                      1\n",
      "SUDDEN DEATH DROWNING                        1\n",
      "CDS RX FORGERY INHALANT/GLUE/AEROS           1\n",
      "SANE COLLECTION NON-STRANGER                 1\n",
      "EMBEZZLE UNDER $300                          1\n",
      "ROB KNIFE/CUT - CONV. STORE                  1\n",
      "CDS IMPLMNT-BARBITUR/AMPHETAMI               1\n",
      "AGG  ASSLT CUT/STAB P.O.                     1\n",
      "BURG FORCE - ATTEMPT - SCH/NIGHT             1\n",
      "AGG ASSLT OTHER WPN ON ELDERLY               1\n",
      "ROB OTHER WEAPON GAS/SVC  STA                1\n",
      "TRAFFIC HAZARD                               1\n",
      "VANDALISM POSSESSION GRAFFITI MATERIAL       1\n",
      "ANIMAL OFFENSE - HOT CAR                     1\n",
      "AGG  ASSLT BEAT/INJ P.O.                     1\n",
      "AGG ASSLT BEAT/INJ ELDERLY                   1\n",
      "PARKING OFFENSES                             1\n",
      "ANIMAL NUISANCE/BARKING                      1\n",
      "Name: Class Description, Length: 285, dtype: int64\n"
     ]
    },
    {
     "data": {
      "text/plain": [
       "<matplotlib.axes._subplots.AxesSubplot at 0x7f156fba6128>"
      ]
     },
     "execution_count": 176,
     "metadata": {},
     "output_type": "execute_result"
    },
    {
     "data": {
      "image/png": "[encoded data removed]",
      "text/plain": [
       "<matplotlib.figure.Figure at 0x7f156fbf1780>"
      ]
     },
     "metadata": {},
     "output_type": "display_data"
    }
   ],
   "source": [
    "print(crimes['Class Description'].value_counts())\n",
    "crimes['Class Description'].value_counts().head().plot(kind='bar')"
   ]
  },
  {
   "cell_type": "markdown",
   "metadata": {},
   "source": [
    "Thus, the most frequent police event in 2013 was **\"DRIVING UNDER THE INFLUENCE\"** (of alcohol or narcotic substances, probably)."
   ]
  },
  {
   "cell_type": "code",
   "execution_count": null,
   "metadata": {
    "collapsed": true
   },
   "outputs": [],
   "source": []
  }
 ],
 "metadata": {
  "kernelspec": {
   "display_name": "Python 3",
   "language": "python",
   "name": "python3"
  },
  "language_info": {
   "codemirror_mode": {
    "name": "ipython",
    "version": 3
   },
   "file_extension": ".py",
   "mimetype": "text/x-python",
   "name": "python",
   "nbconvert_exporter": "python",
   "pygments_lexer": "ipython3",
   "version": "3.6.1"
  }
 },
 "nbformat": 4,
 "nbformat_minor": 2
}
