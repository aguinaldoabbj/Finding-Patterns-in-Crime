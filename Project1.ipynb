{
 "cells": [
  {
   "cell_type": "markdown",
   "metadata": {},
   "source": [
    "# Universidade Federal do Rio Grande do Norte\n",
    "## Programa de Pós-graduação em Engenharia Elétrica e de Computação\n",
    "### Course: Tópicos Especiais C\n",
    "### Professor: Ivanovitch Silva\n",
    "### Students: \n",
    "* Aguinaldo Bezerra Batista Júnior\n",
    "* Pedro Klisley Ferreira da Silva\n",
    "* Ycaro Ravel Dantas\n",
    "\n",
    "#### Activity: Task 2, Project 1\n",
    "#### Subject: Finding Patterns in Crime\n",
    "#### Objectives: Perform data analysis of a given dataset following guidance and hints in the professor's notebook.\n",
    "#### Dataset: MontgomeryCountyCrime2013.csv"
   ]
  },
  {
   "cell_type": "markdown",
   "metadata": {},
   "source": [
    "### 1 Getting to know the proposed dataset"
   ]
  },
  {
   "cell_type": "markdown",
   "metadata": {},
   "source": [
    "Loading the given dataset into Pandas object and showing some rows"
   ]
  },
  {
   "cell_type": "code",
   "execution_count": 17,
   "metadata": {
    "scrolled": false
   },
   "outputs": [
    {
     "data": {
      "text/html": [
       "<div>\n",
       "<style>\n",
       "    .dataframe thead tr:only-child th {\n",
       "        text-align: right;\n",
       "    }\n",
       "\n",
       "    .dataframe thead th {\n",
       "        text-align: left;\n",
       "    }\n",
       "\n",
       "    .dataframe tbody tr th {\n",
       "        vertical-align: top;\n",
       "    }\n",
       "</style>\n",
       "<table border=\"1\" class=\"dataframe\">\n",
       "  <thead>\n",
       "    <tr style=\"text-align: right;\">\n",
       "      <th></th>\n",
       "      <th>Incident ID</th>\n",
       "      <th>CR Number</th>\n",
       "      <th>Dispatch Date / Time</th>\n",
       "      <th>Class</th>\n",
       "      <th>Class Description</th>\n",
       "      <th>Police District Name</th>\n",
       "      <th>Block Address</th>\n",
       "      <th>City</th>\n",
       "      <th>State</th>\n",
       "      <th>Zip Code</th>\n",
       "      <th>...</th>\n",
       "      <th>Sector</th>\n",
       "      <th>Beat</th>\n",
       "      <th>PRA</th>\n",
       "      <th>Start Date / Time</th>\n",
       "      <th>End Date / Time</th>\n",
       "      <th>Latitude</th>\n",
       "      <th>Longitude</th>\n",
       "      <th>Police District Number</th>\n",
       "      <th>Location</th>\n",
       "      <th>Address Number</th>\n",
       "    </tr>\n",
       "  </thead>\n",
       "  <tbody>\n",
       "    <tr>\n",
       "      <th>0</th>\n",
       "      <td>200939101</td>\n",
       "      <td>13047006</td>\n",
       "      <td>10/02/2013 07:52:41 PM</td>\n",
       "      <td>511</td>\n",
       "      <td>BURG FORCE-RES/NIGHT</td>\n",
       "      <td>OTHER</td>\n",
       "      <td>25700  MT RADNOR DR</td>\n",
       "      <td>DAMASCUS</td>\n",
       "      <td>MD</td>\n",
       "      <td>20872.0</td>\n",
       "      <td>...</td>\n",
       "      <td>NaN</td>\n",
       "      <td>NaN</td>\n",
       "      <td>NaN</td>\n",
       "      <td>10/02/2013 07:52:00 PM</td>\n",
       "      <td>NaN</td>\n",
       "      <td>NaN</td>\n",
       "      <td>NaN</td>\n",
       "      <td>OTHER</td>\n",
       "      <td>NaN</td>\n",
       "      <td>25700.0</td>\n",
       "    </tr>\n",
       "    <tr>\n",
       "      <th>1</th>\n",
       "      <td>200952042</td>\n",
       "      <td>13062965</td>\n",
       "      <td>12/31/2013 09:46:58 PM</td>\n",
       "      <td>1834</td>\n",
       "      <td>CDS-POSS MARIJUANA/HASHISH</td>\n",
       "      <td>GERMANTOWN</td>\n",
       "      <td>GUNNERS BRANCH  RD</td>\n",
       "      <td>GERMANTOWN</td>\n",
       "      <td>MD</td>\n",
       "      <td>20874.0</td>\n",
       "      <td>...</td>\n",
       "      <td>M</td>\n",
       "      <td>5M1</td>\n",
       "      <td>470.0</td>\n",
       "      <td>12/31/2013 09:46:00 PM</td>\n",
       "      <td>NaN</td>\n",
       "      <td>NaN</td>\n",
       "      <td>NaN</td>\n",
       "      <td>5D</td>\n",
       "      <td>NaN</td>\n",
       "      <td>NaN</td>\n",
       "    </tr>\n",
       "    <tr>\n",
       "      <th>2</th>\n",
       "      <td>200926636</td>\n",
       "      <td>13031483</td>\n",
       "      <td>07/06/2013 09:06:24 AM</td>\n",
       "      <td>1412</td>\n",
       "      <td>VANDALISM-MOTOR VEHICLE</td>\n",
       "      <td>MONTGOMERY VILLAGE</td>\n",
       "      <td>OLDE TOWNE  AVE</td>\n",
       "      <td>GAITHERSBURG</td>\n",
       "      <td>MD</td>\n",
       "      <td>20877.0</td>\n",
       "      <td>...</td>\n",
       "      <td>P</td>\n",
       "      <td>6P3</td>\n",
       "      <td>431.0</td>\n",
       "      <td>07/06/2013 09:06:00 AM</td>\n",
       "      <td>NaN</td>\n",
       "      <td>NaN</td>\n",
       "      <td>NaN</td>\n",
       "      <td>6D</td>\n",
       "      <td>NaN</td>\n",
       "      <td>NaN</td>\n",
       "    </tr>\n",
       "    <tr>\n",
       "      <th>3</th>\n",
       "      <td>200929538</td>\n",
       "      <td>13035288</td>\n",
       "      <td>07/28/2013 09:13:15 PM</td>\n",
       "      <td>2752</td>\n",
       "      <td>FUGITIVE FROM JUSTICE(OUT OF STATE)</td>\n",
       "      <td>BETHESDA</td>\n",
       "      <td>BEACH  DR</td>\n",
       "      <td>CHEVY CHASE</td>\n",
       "      <td>MD</td>\n",
       "      <td>20815.0</td>\n",
       "      <td>...</td>\n",
       "      <td>D</td>\n",
       "      <td>2D1</td>\n",
       "      <td>11.0</td>\n",
       "      <td>07/28/2013 09:13:00 PM</td>\n",
       "      <td>NaN</td>\n",
       "      <td>NaN</td>\n",
       "      <td>NaN</td>\n",
       "      <td>2D</td>\n",
       "      <td>NaN</td>\n",
       "      <td>NaN</td>\n",
       "    </tr>\n",
       "    <tr>\n",
       "      <th>4</th>\n",
       "      <td>200930689</td>\n",
       "      <td>13036876</td>\n",
       "      <td>08/06/2013 05:16:17 PM</td>\n",
       "      <td>2812</td>\n",
       "      <td>DRIVING UNDER THE INFLUENCE</td>\n",
       "      <td>BETHESDA</td>\n",
       "      <td>BEACH  DR</td>\n",
       "      <td>SILVER SPRING</td>\n",
       "      <td>MD</td>\n",
       "      <td>20815.0</td>\n",
       "      <td>...</td>\n",
       "      <td>D</td>\n",
       "      <td>2D3</td>\n",
       "      <td>178.0</td>\n",
       "      <td>08/06/2013 05:16:00 PM</td>\n",
       "      <td>NaN</td>\n",
       "      <td>NaN</td>\n",
       "      <td>NaN</td>\n",
       "      <td>2D</td>\n",
       "      <td>NaN</td>\n",
       "      <td>NaN</td>\n",
       "    </tr>\n",
       "  </tbody>\n",
       "</table>\n",
       "<p>5 rows × 22 columns</p>\n",
       "</div>"
      ],
      "text/plain": [
       "   Incident ID  CR Number    Dispatch Date / Time  Class  \\\n",
       "0    200939101   13047006  10/02/2013 07:52:41 PM    511   \n",
       "1    200952042   13062965  12/31/2013 09:46:58 PM   1834   \n",
       "2    200926636   13031483  07/06/2013 09:06:24 AM   1412   \n",
       "3    200929538   13035288  07/28/2013 09:13:15 PM   2752   \n",
       "4    200930689   13036876  08/06/2013 05:16:17 PM   2812   \n",
       "\n",
       "                     Class Description Police District Name  \\\n",
       "0                 BURG FORCE-RES/NIGHT                OTHER   \n",
       "1           CDS-POSS MARIJUANA/HASHISH           GERMANTOWN   \n",
       "2              VANDALISM-MOTOR VEHICLE   MONTGOMERY VILLAGE   \n",
       "3  FUGITIVE FROM JUSTICE(OUT OF STATE)             BETHESDA   \n",
       "4          DRIVING UNDER THE INFLUENCE             BETHESDA   \n",
       "\n",
       "         Block Address           City State  Zip Code      ...       Sector  \\\n",
       "0  25700  MT RADNOR DR       DAMASCUS    MD   20872.0      ...          NaN   \n",
       "1   GUNNERS BRANCH  RD     GERMANTOWN    MD   20874.0      ...            M   \n",
       "2      OLDE TOWNE  AVE   GAITHERSBURG    MD   20877.0      ...            P   \n",
       "3            BEACH  DR    CHEVY CHASE    MD   20815.0      ...            D   \n",
       "4            BEACH  DR  SILVER SPRING    MD   20815.0      ...            D   \n",
       "\n",
       "  Beat    PRA       Start Date / Time  End Date / Time Latitude Longitude  \\\n",
       "0  NaN    NaN  10/02/2013 07:52:00 PM              NaN      NaN       NaN   \n",
       "1  5M1  470.0  12/31/2013 09:46:00 PM              NaN      NaN       NaN   \n",
       "2  6P3  431.0  07/06/2013 09:06:00 AM              NaN      NaN       NaN   \n",
       "3  2D1   11.0  07/28/2013 09:13:00 PM              NaN      NaN       NaN   \n",
       "4  2D3  178.0  08/06/2013 05:16:00 PM              NaN      NaN       NaN   \n",
       "\n",
       "   Police District Number  Location Address Number  \n",
       "0                   OTHER       NaN        25700.0  \n",
       "1                      5D       NaN            NaN  \n",
       "2                      6D       NaN            NaN  \n",
       "3                      2D       NaN            NaN  \n",
       "4                      2D       NaN            NaN  \n",
       "\n",
       "[5 rows x 22 columns]"
      ]
     },
     "execution_count": 17,
     "metadata": {},
     "output_type": "execute_result"
    }
   ],
   "source": [
    "import pandas as pd\n",
    "crimes = pd.read_csv(\"MontgomeryCountyCrime2013.csv\")\n",
    "crimes.head()"
   ]
  },
  {
   "cell_type": "markdown",
   "metadata": {},
   "source": [
    "Listing the columns of the dataset and their types"
   ]
  },
  {
   "cell_type": "code",
   "execution_count": 18,
   "metadata": {},
   "outputs": [
    {
     "data": {
      "text/plain": [
       "Index(['Incident ID', 'CR Number', 'Dispatch Date / Time', 'Class',\n",
       "       'Class Description', 'Police District Name', 'Block Address', 'City',\n",
       "       'State', 'Zip Code', 'Agency', 'Place', 'Sector', 'Beat', 'PRA',\n",
       "       'Start Date / Time', 'End Date / Time', 'Latitude', 'Longitude',\n",
       "       'Police District Number', 'Location', 'Address Number'],\n",
       "      dtype='object')"
      ]
     },
     "execution_count": 18,
     "metadata": {},
     "output_type": "execute_result"
    }
   ],
   "source": [
    "crimes.columns"
   ]
  },
  {
   "cell_type": "code",
   "execution_count": 19,
   "metadata": {},
   "outputs": [
    {
     "data": {
      "text/plain": [
       "Incident ID                 int64\n",
       "CR Number                   int64\n",
       "Dispatch Date / Time       object\n",
       "Class                       int64\n",
       "Class Description          object\n",
       "Police District Name       object\n",
       "Block Address              object\n",
       "City                       object\n",
       "State                      object\n",
       "Zip Code                  float64\n",
       "Agency                     object\n",
       "Place                      object\n",
       "Sector                     object\n",
       "Beat                       object\n",
       "PRA                       float64\n",
       "Start Date / Time          object\n",
       "End Date / Time            object\n",
       "Latitude                  float64\n",
       "Longitude                 float64\n",
       "Police District Number     object\n",
       "Location                   object\n",
       "Address Number            float64\n",
       "dtype: object"
      ]
     },
     "execution_count": 19,
     "metadata": {},
     "output_type": "execute_result"
    }
   ],
   "source": [
    "crimes.dtypes"
   ]
  },
  {
   "cell_type": "markdown",
   "metadata": {},
   "source": [
    "By inspecting column names and some cells, we figured out some relations between some columns. Columns **\"Police Distric Name\"** and **\"Police District Number\"** stand for the same information: the identification of the Police District (Name or Code). Similarily, columns **\"Class\"** and **\"Class Description\"** refer to crime classes codes and their descriptions. **\"Location\"** is clearly a join of the information on **\"Latitude\"** and **\"Longitude\" columns**. A quick google search allowed to perceive the meaning of remaining non self-explanatory columns. **\"CR Number\"** refers to the Police Report Number, **\"Beat\"** stands for a police patrol area (subset of a Sector) and **\"PRA\"**, the Police Response Area, is a subset of Beat.\n",
    "\n"
   ]
  },
  {
   "cell_type": "markdown",
   "metadata": {
    "collapsed": true
   },
   "source": [
    "The column **\"Zip Code\"**, as already pointed in the guidance notebook, contains wrong type data. It is important to convert wrong or inadequate type data to more appropriate ones to help further analysis."
   ]
  },
  {
   "cell_type": "markdown",
   "metadata": {},
   "source": [
    "We could convert data in the **\"Zip Code\"** and **\"Address Number\"** columns to the more suitable interger type. However, these columns are full of _NaN_ and the lack of _NaN_ and _NA_ representations in integer columns is a well known Pandas \"gotcha\". Maybe thats why these columns were built as float type data (compatible with NAs and NaNs). A workaround to this problem could be the definition of a sentinel interger values for this kind of data absense."
   ]
  },
  {
   "cell_type": "markdown",
   "metadata": {},
   "source": [
    "NaNs and NAs are likeky to happen in a dataset during data acquisition, transmission and conversion steps. \n",
    "They negatively affect the quality of the dataset and they should be carefuly spotted and evaluated, as they may\n",
    "lead to weak or innacurate conclusions."
   ]
  },
  {
   "cell_type": "markdown",
   "metadata": {},
   "source": []
  }
 ],
 "metadata": {
  "kernelspec": {
   "display_name": "Python 3",
   "language": "python",
   "name": "python3"
  },
  "language_info": {
   "codemirror_mode": {
    "name": "ipython",
    "version": 3
   },
   "file_extension": ".py",
   "mimetype": "text/x-python",
   "name": "python",
   "nbconvert_exporter": "python",
   "pygments_lexer": "ipython3",
   "version": "3.6.1"
  }
 },
 "nbformat": 4,
 "nbformat_minor": 2
}
